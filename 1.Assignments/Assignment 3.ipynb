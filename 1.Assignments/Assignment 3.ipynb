{
 "cells": [
  {
   "cell_type": "markdown",
   "id": "27ae5a72",
   "metadata": {},
   "source": [
    " **AI Assignment 3**"
   ]
  },
  {
   "cell_type": "markdown",
   "id": "000ce3b1",
   "metadata": {},
   "source": [
    "*Description: Build an ANN model for Drug classification.*\n",
    "\n",
    "This project aims to analyze the relationship between various medical parameters and drug effectiveness.\n",
    "The dataset consists of patient information, including age, sex, blood pressure levels (BP), cholesterol\n",
    "levels, sodium-to-potassium ratio (Na_to_K), drug type, and corresponding labels. The goal is to develop\n",
    "a model that can accurately predict the class or category of a given drug based on its features.\n"
   ]
  },
  {
   "cell_type": "markdown",
   "id": "3e78ff36",
   "metadata": {},
   "source": [
    "*1: Read the dataset and do data pre-processing*"
   ]
  },
  {
   "cell_type": "markdown",
   "id": "50cf9ff7",
   "metadata": {},
   "source": [
    "Import necessary libraries"
   ]
  },
  {
   "cell_type": "code",
   "execution_count": 1,
   "id": "a7f32000",
   "metadata": {},
   "outputs": [],
   "source": [
    "import pandas as pd\n",
    "import numpy as np\n",
    "from sklearn.model_selection import train_test_split\n",
    "from sklearn.preprocessing import LabelEncoder, StandardScaler\n",
    "from tensorflow.keras.models import Sequential\n",
    "from tensorflow.keras.layers import Dense"
   ]
  },
  {
   "cell_type": "code",
   "execution_count": 2,
   "id": "fff138d3",
   "metadata": {},
   "outputs": [
    {
     "name": "stdout",
     "output_type": "stream",
     "text": [
      "     Age Sex      BP Cholesterol  Na_to_K   Drug\n",
      "0     23   F    HIGH        HIGH   25.355  DrugY\n",
      "1     47   M     LOW        HIGH   13.093  drugC\n",
      "2     47   M     LOW        HIGH   10.114  drugC\n",
      "3     28   F  NORMAL        HIGH    7.798  drugX\n",
      "4     61   F     LOW        HIGH   18.043  DrugY\n",
      "..   ...  ..     ...         ...      ...    ...\n",
      "195   56   F     LOW        HIGH   11.567  drugC\n",
      "196   16   M     LOW        HIGH   12.006  drugC\n",
      "197   52   M  NORMAL        HIGH    9.894  drugX\n",
      "198   23   M  NORMAL      NORMAL   14.020  drugX\n",
      "199   40   F     LOW      NORMAL   11.349  drugX\n",
      "\n",
      "[200 rows x 6 columns]\n"
     ]
    }
   ],
   "source": [
    "# Read the dataset\n",
    "data = pd.read_csv(\"drug200.csv\")\n",
    "print(data)"
   ]
  },
  {
   "cell_type": "code",
   "execution_count": 3,
   "id": "177079e1",
   "metadata": {},
   "outputs": [
    {
     "name": "stdout",
     "output_type": "stream",
     "text": [
      "Column Names:\n",
      "Index(['Age', 'Sex', 'BP', 'Cholesterol', 'Na_to_K', 'Drug'], dtype='object')\n"
     ]
    }
   ],
   "source": [
    "column_names = data.columns\n",
    "print(\"Column Names:\")\n",
    "print(column_names)"
   ]
  },
  {
   "cell_type": "markdown",
   "id": "3ed0ca4b",
   "metadata": {},
   "source": [
    "*Check for Missing Values:*"
   ]
  },
  {
   "cell_type": "code",
   "execution_count": 4,
   "id": "f09e44f7",
   "metadata": {},
   "outputs": [
    {
     "name": "stdout",
     "output_type": "stream",
     "text": [
      "Age            0\n",
      "Sex            0\n",
      "BP             0\n",
      "Cholesterol    0\n",
      "Na_to_K        0\n",
      "Drug           0\n",
      "dtype: int64\n"
     ]
    }
   ],
   "source": [
    "# Check for Missing Values\n",
    "print(data.isnull().sum())"
   ]
  },
  {
   "cell_type": "markdown",
   "id": "343db525",
   "metadata": {},
   "source": [
    "*Data encoding*"
   ]
  },
  {
   "cell_type": "code",
   "execution_count": 5,
   "id": "769c950c",
   "metadata": {},
   "outputs": [
    {
     "name": "stdout",
     "output_type": "stream",
     "text": [
      "     Age  Sex  BP  Cholesterol  Na_to_K  Drug_DrugY  Drug_drugA  Drug_drugB  \\\n",
      "0     23    0   0            0   25.355        True       False       False   \n",
      "1     47    1   1            0   13.093       False       False       False   \n",
      "2     47    1   1            0   10.114       False       False       False   \n",
      "3     28    0   2            0    7.798       False       False       False   \n",
      "4     61    0   1            0   18.043        True       False       False   \n",
      "..   ...  ...  ..          ...      ...         ...         ...         ...   \n",
      "195   56    0   1            0   11.567       False       False       False   \n",
      "196   16    1   1            0   12.006       False       False       False   \n",
      "197   52    1   2            0    9.894       False       False       False   \n",
      "198   23    1   2            1   14.020       False       False       False   \n",
      "199   40    0   1            1   11.349       False       False       False   \n",
      "\n",
      "     Drug_drugC  Drug_drugX  \n",
      "0         False       False  \n",
      "1          True       False  \n",
      "2          True       False  \n",
      "3         False        True  \n",
      "4         False       False  \n",
      "..          ...         ...  \n",
      "195        True       False  \n",
      "196        True       False  \n",
      "197       False        True  \n",
      "198       False        True  \n",
      "199       False        True  \n",
      "\n",
      "[200 rows x 10 columns]\n"
     ]
    }
   ],
   "source": [
    "# Encode categorical variables\n",
    "label_encoder = LabelEncoder()\n",
    "data['Sex'] = label_encoder.fit_transform(data['Sex'])\n",
    "data['BP'] = label_encoder.fit_transform(data['BP'])\n",
    "data['Cholesterol'] = label_encoder.fit_transform(data['Cholesterol'])\n",
    "# One-hot encode the 'Drug' column\n",
    "data = pd.get_dummies(data, columns=['Drug'])\n",
    "\n",
    "print(data)"
   ]
  },
  {
   "cell_type": "markdown",
   "id": "36a8f411",
   "metadata": {},
   "source": [
    "*Split dataset into features and labels*"
   ]
  },
  {
   "cell_type": "code",
   "execution_count": 6,
   "id": "f57bc2ae",
   "metadata": {},
   "outputs": [],
   "source": [
    "# Split dataset into features and labels\n",
    "X = data.drop(columns=['Drug_drugX', 'Drug_DrugY', 'Drug_drugA', 'Drug_drugB', 'Drug_drugC'])\n",
    "y = data[['Drug_drugX', 'Drug_DrugY', 'Drug_drugA', 'Drug_drugB', 'Drug_drugC']]"
   ]
  },
  {
   "cell_type": "markdown",
   "id": "f5f9b141",
   "metadata": {},
   "source": [
    "*Split dataset into training and testing sets*"
   ]
  },
  {
   "cell_type": "code",
   "execution_count": 7,
   "id": "1437e7f8",
   "metadata": {},
   "outputs": [],
   "source": [
    "# Split dataset into training and testing sets\n",
    "X_train, X_test, y_train, y_test = train_test_split(X, y, test_size=0.2, random_state=42)"
   ]
  },
  {
   "cell_type": "markdown",
   "id": "19631c8f",
   "metadata": {},
   "source": [
    "*Standardize features*"
   ]
  },
  {
   "cell_type": "code",
   "execution_count": 8,
   "id": "74c50183",
   "metadata": {},
   "outputs": [],
   "source": [
    "# Standardize features\n",
    "scaler = StandardScaler()\n",
    "X_train = scaler.fit_transform(X_train)\n",
    "X_test = scaler.transform(X_test)"
   ]
  },
  {
   "cell_type": "markdown",
   "id": "51a0e30c",
   "metadata": {},
   "source": [
    "*2: Build the ANN model with (input layer, min 3 hidden layers & output layer)*"
   ]
  },
  {
   "cell_type": "code",
   "execution_count": 10,
   "id": "1516ce10",
   "metadata": {},
   "outputs": [],
   "source": [
    "from tensorflow.keras.layers import Input\n",
    "\n",
    "# Define input shape\n",
    "input_shape = X_train.shape[1]\n",
    "\n",
    "# Build the ANN model\n",
    "model = Sequential([\n",
    "    Input(shape=(input_shape,)),  # Input layer\n",
    "    Dense(64, activation='relu'),\n",
    "    Dense(128, activation='relu'),\n",
    "    Dense(64, activation='relu'),\n",
    "    Dense(5, activation='softmax')  # Output layer with 5 neurons for 5 drug types\n",
    "])\n"
   ]
  },
  {
   "cell_type": "code",
   "execution_count": 11,
   "id": "ac2fc565",
   "metadata": {},
   "outputs": [],
   "source": [
    "# Compile the model\n",
    "optimizer = Adam()  # Using recommended optimizer module\n",
    "model.compile(optimizer=optimizer, loss='categorical_crossentropy', metrics=['accuracy'])"
   ]
  },
  {
   "cell_type": "code",
   "execution_count": 12,
   "id": "54ccc19b",
   "metadata": {},
   "outputs": [
    {
     "name": "stdout",
     "output_type": "stream",
     "text": [
      "Epoch 1/50\n",
      "\u001b[1m5/5\u001b[0m \u001b[32m━━━━━━━━━━━━━━━━━━━━\u001b[0m\u001b[37m\u001b[0m \u001b[1m1s\u001b[0m 36ms/step - accuracy: 0.1675 - loss: 1.6592 - val_accuracy: 0.3750 - val_loss: 1.4985\n",
      "Epoch 2/50\n",
      "\u001b[1m5/5\u001b[0m \u001b[32m━━━━━━━━━━━━━━━━━━━━\u001b[0m\u001b[37m\u001b[0m \u001b[1m0s\u001b[0m 7ms/step - accuracy: 0.6690 - loss: 1.4106 - val_accuracy: 0.5750 - val_loss: 1.3320\n",
      "Epoch 3/50\n",
      "\u001b[1m5/5\u001b[0m \u001b[32m━━━━━━━━━━━━━━━━━━━━\u001b[0m\u001b[37m\u001b[0m \u001b[1m0s\u001b[0m 7ms/step - accuracy: 0.7274 - loss: 1.2244 - val_accuracy: 0.6000 - val_loss: 1.1945\n",
      "Epoch 4/50\n",
      "\u001b[1m5/5\u001b[0m \u001b[32m━━━━━━━━━━━━━━━━━━━━\u001b[0m\u001b[37m\u001b[0m \u001b[1m0s\u001b[0m 7ms/step - accuracy: 0.6975 - loss: 1.0998 - val_accuracy: 0.6000 - val_loss: 1.0655\n",
      "Epoch 5/50\n",
      "\u001b[1m5/5\u001b[0m \u001b[32m━━━━━━━━━━━━━━━━━━━━\u001b[0m\u001b[37m\u001b[0m \u001b[1m0s\u001b[0m 7ms/step - accuracy: 0.7132 - loss: 0.9527 - val_accuracy: 0.6250 - val_loss: 0.9427\n",
      "Epoch 6/50\n",
      "\u001b[1m5/5\u001b[0m \u001b[32m━━━━━━━━━━━━━━━━━━━━\u001b[0m\u001b[37m\u001b[0m \u001b[1m0s\u001b[0m 7ms/step - accuracy: 0.6717 - loss: 0.8637 - val_accuracy: 0.6750 - val_loss: 0.8282\n",
      "Epoch 7/50\n",
      "\u001b[1m5/5\u001b[0m \u001b[32m━━━━━━━━━━━━━━━━━━━━\u001b[0m\u001b[37m\u001b[0m \u001b[1m0s\u001b[0m 7ms/step - accuracy: 0.7490 - loss: 0.7316 - val_accuracy: 0.7250 - val_loss: 0.7256\n",
      "Epoch 8/50\n",
      "\u001b[1m5/5\u001b[0m \u001b[32m━━━━━━━━━━━━━━━━━━━━\u001b[0m\u001b[37m\u001b[0m \u001b[1m0s\u001b[0m 7ms/step - accuracy: 0.7724 - loss: 0.6169 - val_accuracy: 0.7750 - val_loss: 0.6366\n",
      "Epoch 9/50\n",
      "\u001b[1m5/5\u001b[0m \u001b[32m━━━━━━━━━━━━━━━━━━━━\u001b[0m\u001b[37m\u001b[0m \u001b[1m0s\u001b[0m 7ms/step - accuracy: 0.8265 - loss: 0.5439 - val_accuracy: 0.8500 - val_loss: 0.5565\n",
      "Epoch 10/50\n",
      "\u001b[1m5/5\u001b[0m \u001b[32m━━━━━━━━━━━━━━━━━━━━\u001b[0m\u001b[37m\u001b[0m \u001b[1m0s\u001b[0m 7ms/step - accuracy: 0.8451 - loss: 0.4485 - val_accuracy: 0.8500 - val_loss: 0.4883\n",
      "Epoch 11/50\n",
      "\u001b[1m5/5\u001b[0m \u001b[32m━━━━━━━━━━━━━━━━━━━━\u001b[0m\u001b[37m\u001b[0m \u001b[1m0s\u001b[0m 7ms/step - accuracy: 0.9093 - loss: 0.3838 - val_accuracy: 0.8750 - val_loss: 0.4308\n",
      "Epoch 12/50\n",
      "\u001b[1m5/5\u001b[0m \u001b[32m━━━━━━━━━━━━━━━━━━━━\u001b[0m\u001b[37m\u001b[0m \u001b[1m0s\u001b[0m 7ms/step - accuracy: 0.9331 - loss: 0.3181 - val_accuracy: 0.9000 - val_loss: 0.3926\n",
      "Epoch 13/50\n",
      "\u001b[1m5/5\u001b[0m \u001b[32m━━━━━━━━━━━━━━━━━━━━\u001b[0m\u001b[37m\u001b[0m \u001b[1m0s\u001b[0m 7ms/step - accuracy: 0.9476 - loss: 0.3228 - val_accuracy: 0.9250 - val_loss: 0.3529\n",
      "Epoch 14/50\n",
      "\u001b[1m5/5\u001b[0m \u001b[32m━━━━━━━━━━━━━━━━━━━━\u001b[0m\u001b[37m\u001b[0m \u001b[1m0s\u001b[0m 7ms/step - accuracy: 0.9639 - loss: 0.2572 - val_accuracy: 0.9500 - val_loss: 0.3040\n",
      "Epoch 15/50\n",
      "\u001b[1m5/5\u001b[0m \u001b[32m━━━━━━━━━━━━━━━━━━━━\u001b[0m\u001b[37m\u001b[0m \u001b[1m0s\u001b[0m 7ms/step - accuracy: 0.9682 - loss: 0.2233 - val_accuracy: 0.9500 - val_loss: 0.2638\n",
      "Epoch 16/50\n",
      "\u001b[1m5/5\u001b[0m \u001b[32m━━━━━━━━━━━━━━━━━━━━\u001b[0m\u001b[37m\u001b[0m \u001b[1m0s\u001b[0m 7ms/step - accuracy: 0.9932 - loss: 0.1681 - val_accuracy: 0.9500 - val_loss: 0.2379\n",
      "Epoch 17/50\n",
      "\u001b[1m5/5\u001b[0m \u001b[32m━━━━━━━━━━━━━━━━━━━━\u001b[0m\u001b[37m\u001b[0m \u001b[1m0s\u001b[0m 7ms/step - accuracy: 0.9760 - loss: 0.1689 - val_accuracy: 0.9750 - val_loss: 0.2200\n",
      "Epoch 18/50\n",
      "\u001b[1m5/5\u001b[0m \u001b[32m━━━━━━━━━━━━━━━━━━━━\u001b[0m\u001b[37m\u001b[0m \u001b[1m0s\u001b[0m 7ms/step - accuracy: 0.9923 - loss: 0.1411 - val_accuracy: 0.9750 - val_loss: 0.1980\n",
      "Epoch 19/50\n",
      "\u001b[1m5/5\u001b[0m \u001b[32m━━━━━━━━━━━━━━━━━━━━\u001b[0m\u001b[37m\u001b[0m \u001b[1m0s\u001b[0m 9ms/step - accuracy: 0.9923 - loss: 0.1242 - val_accuracy: 0.9750 - val_loss: 0.1682\n",
      "Epoch 20/50\n",
      "\u001b[1m5/5\u001b[0m \u001b[32m━━━━━━━━━━━━━━━━━━━━\u001b[0m\u001b[37m\u001b[0m \u001b[1m0s\u001b[0m 8ms/step - accuracy: 1.0000 - loss: 0.1047 - val_accuracy: 0.9750 - val_loss: 0.1518\n",
      "Epoch 21/50\n",
      "\u001b[1m5/5\u001b[0m \u001b[32m━━━━━━━━━━━━━━━━━━━━\u001b[0m\u001b[37m\u001b[0m \u001b[1m0s\u001b[0m 7ms/step - accuracy: 1.0000 - loss: 0.0892 - val_accuracy: 0.9750 - val_loss: 0.1420\n",
      "Epoch 22/50\n",
      "\u001b[1m5/5\u001b[0m \u001b[32m━━━━━━━━━━━━━━━━━━━━\u001b[0m\u001b[37m\u001b[0m \u001b[1m0s\u001b[0m 7ms/step - accuracy: 1.0000 - loss: 0.0757 - val_accuracy: 0.9750 - val_loss: 0.1300\n",
      "Epoch 23/50\n",
      "\u001b[1m5/5\u001b[0m \u001b[32m━━━━━━━━━━━━━━━━━━━━\u001b[0m\u001b[37m\u001b[0m \u001b[1m0s\u001b[0m 7ms/step - accuracy: 1.0000 - loss: 0.0733 - val_accuracy: 0.9750 - val_loss: 0.1095\n",
      "Epoch 24/50\n",
      "\u001b[1m5/5\u001b[0m \u001b[32m━━━━━━━━━━━━━━━━━━━━\u001b[0m\u001b[37m\u001b[0m \u001b[1m0s\u001b[0m 7ms/step - accuracy: 1.0000 - loss: 0.0658 - val_accuracy: 0.9750 - val_loss: 0.1095\n",
      "Epoch 25/50\n",
      "\u001b[1m5/5\u001b[0m \u001b[32m━━━━━━━━━━━━━━━━━━━━\u001b[0m\u001b[37m\u001b[0m \u001b[1m0s\u001b[0m 7ms/step - accuracy: 1.0000 - loss: 0.0522 - val_accuracy: 0.9750 - val_loss: 0.1027\n",
      "Epoch 26/50\n",
      "\u001b[1m5/5\u001b[0m \u001b[32m━━━━━━━━━━━━━━━━━━━━\u001b[0m\u001b[37m\u001b[0m \u001b[1m0s\u001b[0m 7ms/step - accuracy: 1.0000 - loss: 0.0547 - val_accuracy: 0.9750 - val_loss: 0.0877\n",
      "Epoch 27/50\n",
      "\u001b[1m5/5\u001b[0m \u001b[32m━━━━━━━━━━━━━━━━━━━━\u001b[0m\u001b[37m\u001b[0m \u001b[1m0s\u001b[0m 7ms/step - accuracy: 1.0000 - loss: 0.0476 - val_accuracy: 1.0000 - val_loss: 0.0801\n",
      "Epoch 28/50\n",
      "\u001b[1m5/5\u001b[0m \u001b[32m━━━━━━━━━━━━━━━━━━━━\u001b[0m\u001b[37m\u001b[0m \u001b[1m0s\u001b[0m 7ms/step - accuracy: 1.0000 - loss: 0.0500 - val_accuracy: 0.9750 - val_loss: 0.0793\n",
      "Epoch 29/50\n",
      "\u001b[1m5/5\u001b[0m \u001b[32m━━━━━━━━━━━━━━━━━━━━\u001b[0m\u001b[37m\u001b[0m \u001b[1m0s\u001b[0m 7ms/step - accuracy: 1.0000 - loss: 0.0433 - val_accuracy: 0.9750 - val_loss: 0.0742\n",
      "Epoch 30/50\n",
      "\u001b[1m5/5\u001b[0m \u001b[32m━━━━━━━━━━━━━━━━━━━━\u001b[0m\u001b[37m\u001b[0m \u001b[1m0s\u001b[0m 7ms/step - accuracy: 1.0000 - loss: 0.0423 - val_accuracy: 1.0000 - val_loss: 0.0665\n",
      "Epoch 31/50\n",
      "\u001b[1m5/5\u001b[0m \u001b[32m━━━━━━━━━━━━━━━━━━━━\u001b[0m\u001b[37m\u001b[0m \u001b[1m0s\u001b[0m 7ms/step - accuracy: 1.0000 - loss: 0.0361 - val_accuracy: 1.0000 - val_loss: 0.0660\n",
      "Epoch 32/50\n",
      "\u001b[1m5/5\u001b[0m \u001b[32m━━━━━━━━━━━━━━━━━━━━\u001b[0m\u001b[37m\u001b[0m \u001b[1m0s\u001b[0m 7ms/step - accuracy: 1.0000 - loss: 0.0289 - val_accuracy: 1.0000 - val_loss: 0.0608\n",
      "Epoch 33/50\n",
      "\u001b[1m5/5\u001b[0m \u001b[32m━━━━━━━━━━━━━━━━━━━━\u001b[0m\u001b[37m\u001b[0m \u001b[1m0s\u001b[0m 7ms/step - accuracy: 1.0000 - loss: 0.0311 - val_accuracy: 1.0000 - val_loss: 0.0616\n",
      "Epoch 34/50\n",
      "\u001b[1m5/5\u001b[0m \u001b[32m━━━━━━━━━━━━━━━━━━━━\u001b[0m\u001b[37m\u001b[0m \u001b[1m0s\u001b[0m 8ms/step - accuracy: 1.0000 - loss: 0.0311 - val_accuracy: 1.0000 - val_loss: 0.0580\n",
      "Epoch 35/50\n",
      "\u001b[1m5/5\u001b[0m \u001b[32m━━━━━━━━━━━━━━━━━━━━\u001b[0m\u001b[37m\u001b[0m \u001b[1m0s\u001b[0m 7ms/step - accuracy: 1.0000 - loss: 0.0245 - val_accuracy: 1.0000 - val_loss: 0.0511\n",
      "Epoch 36/50\n",
      "\u001b[1m5/5\u001b[0m \u001b[32m━━━━━━━━━━━━━━━━━━━━\u001b[0m\u001b[37m\u001b[0m \u001b[1m0s\u001b[0m 7ms/step - accuracy: 1.0000 - loss: 0.0265 - val_accuracy: 1.0000 - val_loss: 0.0487\n",
      "Epoch 37/50\n",
      "\u001b[1m5/5\u001b[0m \u001b[32m━━━━━━━━━━━━━━━━━━━━\u001b[0m\u001b[37m\u001b[0m \u001b[1m0s\u001b[0m 7ms/step - accuracy: 1.0000 - loss: 0.0241 - val_accuracy: 1.0000 - val_loss: 0.0457\n",
      "Epoch 38/50\n",
      "\u001b[1m5/5\u001b[0m \u001b[32m━━━━━━━━━━━━━━━━━━━━\u001b[0m\u001b[37m\u001b[0m \u001b[1m0s\u001b[0m 7ms/step - accuracy: 1.0000 - loss: 0.0208 - val_accuracy: 1.0000 - val_loss: 0.0463\n",
      "Epoch 39/50\n",
      "\u001b[1m5/5\u001b[0m \u001b[32m━━━━━━━━━━━━━━━━━━━━\u001b[0m\u001b[37m\u001b[0m \u001b[1m0s\u001b[0m 7ms/step - accuracy: 1.0000 - loss: 0.0231 - val_accuracy: 1.0000 - val_loss: 0.0435\n",
      "Epoch 40/50\n",
      "\u001b[1m5/5\u001b[0m \u001b[32m━━━━━━━━━━━━━━━━━━━━\u001b[0m\u001b[37m\u001b[0m \u001b[1m0s\u001b[0m 7ms/step - accuracy: 1.0000 - loss: 0.0195 - val_accuracy: 1.0000 - val_loss: 0.0420\n",
      "Epoch 41/50\n",
      "\u001b[1m5/5\u001b[0m \u001b[32m━━━━━━━━━━━━━━━━━━━━\u001b[0m\u001b[37m\u001b[0m \u001b[1m0s\u001b[0m 10ms/step - accuracy: 1.0000 - loss: 0.0177 - val_accuracy: 1.0000 - val_loss: 0.0420\n",
      "Epoch 42/50\n",
      "\u001b[1m5/5\u001b[0m \u001b[32m━━━━━━━━━━━━━━━━━━━━\u001b[0m\u001b[37m\u001b[0m \u001b[1m0s\u001b[0m 8ms/step - accuracy: 1.0000 - loss: 0.0155 - val_accuracy: 1.0000 - val_loss: 0.0387\n",
      "Epoch 43/50\n",
      "\u001b[1m5/5\u001b[0m \u001b[32m━━━━━━━━━━━━━━━━━━━━\u001b[0m\u001b[37m\u001b[0m \u001b[1m0s\u001b[0m 8ms/step - accuracy: 1.0000 - loss: 0.0149 - val_accuracy: 1.0000 - val_loss: 0.0390\n",
      "Epoch 44/50\n",
      "\u001b[1m5/5\u001b[0m \u001b[32m━━━━━━━━━━━━━━━━━━━━\u001b[0m\u001b[37m\u001b[0m \u001b[1m0s\u001b[0m 7ms/step - accuracy: 1.0000 - loss: 0.0136 - val_accuracy: 1.0000 - val_loss: 0.0365\n",
      "Epoch 45/50\n",
      "\u001b[1m5/5\u001b[0m \u001b[32m━━━━━━━━━━━━━━━━━━━━\u001b[0m\u001b[37m\u001b[0m \u001b[1m0s\u001b[0m 7ms/step - accuracy: 1.0000 - loss: 0.0133 - val_accuracy: 1.0000 - val_loss: 0.0366\n",
      "Epoch 46/50\n",
      "\u001b[1m5/5\u001b[0m \u001b[32m━━━━━━━━━━━━━━━━━━━━\u001b[0m\u001b[37m\u001b[0m \u001b[1m0s\u001b[0m 8ms/step - accuracy: 1.0000 - loss: 0.0161 - val_accuracy: 1.0000 - val_loss: 0.0306\n",
      "Epoch 47/50\n",
      "\u001b[1m5/5\u001b[0m \u001b[32m━━━━━━━━━━━━━━━━━━━━\u001b[0m\u001b[37m\u001b[0m \u001b[1m0s\u001b[0m 7ms/step - accuracy: 1.0000 - loss: 0.0176 - val_accuracy: 1.0000 - val_loss: 0.0317\n",
      "Epoch 48/50\n",
      "\u001b[1m5/5\u001b[0m \u001b[32m━━━━━━━━━━━━━━━━━━━━\u001b[0m\u001b[37m\u001b[0m \u001b[1m0s\u001b[0m 7ms/step - accuracy: 1.0000 - loss: 0.0110 - val_accuracy: 1.0000 - val_loss: 0.0302\n",
      "Epoch 49/50\n",
      "\u001b[1m5/5\u001b[0m \u001b[32m━━━━━━━━━━━━━━━━━━━━\u001b[0m\u001b[37m\u001b[0m \u001b[1m0s\u001b[0m 7ms/step - accuracy: 1.0000 - loss: 0.0137 - val_accuracy: 1.0000 - val_loss: 0.0301\n",
      "Epoch 50/50\n",
      "\u001b[1m5/5\u001b[0m \u001b[32m━━━━━━━━━━━━━━━━━━━━\u001b[0m\u001b[37m\u001b[0m \u001b[1m0s\u001b[0m 8ms/step - accuracy: 1.0000 - loss: 0.0128 - val_accuracy: 1.0000 - val_loss: 0.0298\n"
     ]
    },
    {
     "data": {
      "text/plain": [
       "<keras.src.callbacks.history.History at 0x1d44cf57c70>"
      ]
     },
     "execution_count": 12,
     "metadata": {},
     "output_type": "execute_result"
    }
   ],
   "source": [
    "# Train the model\n",
    "model.fit(X_train, y_train, epochs=50, batch_size=32, validation_data=(X_test, y_test))"
   ]
  },
  {
   "cell_type": "markdown",
   "id": "e82fb779",
   "metadata": {},
   "source": [
    "*3: Test the model with random data*"
   ]
  },
  {
   "cell_type": "code",
   "execution_count": 13,
   "id": "badcb211",
   "metadata": {},
   "outputs": [
    {
     "name": "stdout",
     "output_type": "stream",
     "text": [
      "\u001b[1m1/1\u001b[0m \u001b[32m━━━━━━━━━━━━━━━━━━━━\u001b[0m\u001b[37m\u001b[0m \u001b[1m0s\u001b[0m 44ms/step\n",
      "Predicted class: 1\n"
     ]
    }
   ],
   "source": [
    "# Define feature names\n",
    "feature_names = ['Age', 'Sex', 'BP', 'Cholesterol', 'Na_to_K']\n",
    "\n",
    "# Fit the scaler with feature names\n",
    "scaler.fit(X_train, feature_names)\n",
    "\n",
    "# Test the model with random data\n",
    "random_data = np.array([[45, 1, 2, 0, 3.5]])  # Example of random data\n",
    "random_data_scaled = scaler.transform(random_data)\n",
    "prediction = model.predict(random_data_scaled)\n",
    "predicted_class = np.argmax(prediction)\n",
    "print(\"Predicted class:\", predicted_class)\n"
   ]
  }
 ],
 "metadata": {
  "kernelspec": {
   "display_name": "Python 3 (ipykernel)",
   "language": "python",
   "name": "python3"
  },
  "language_info": {
   "codemirror_mode": {
    "name": "ipython",
    "version": 3
   },
   "file_extension": ".py",
   "mimetype": "text/x-python",
   "name": "python",
   "nbconvert_exporter": "python",
   "pygments_lexer": "ipython3",
   "version": "3.10.5"
  }
 },
 "nbformat": 4,
 "nbformat_minor": 5
}
