{
  "nbformat": 4,
  "nbformat_minor": 0,
  "metadata": {
    "colab": {
      "provenance": []
    },
    "kernelspec": {
      "name": "python3",
      "display_name": "Python 3"
    },
    "language_info": {
      "name": "python"
    }
  },
  "cells": [
    {
      "cell_type": "markdown",
      "source": [
        "Project Topic: Envisioning Success: Predicting University Scores With Machine Learning."
      ],
      "metadata": {
        "id": "MwMLUkxAfs8b"
      }
    },
    {
      "cell_type": "markdown",
      "source": [
        "Team ID: 738178\n",
        "\n",
        "Team Members:\n",
        "\n",
        "Aashnaa Aravind Choorapra\n",
        "\n",
        "Pallavi Sunil Konkar\n",
        "\n",
        "Wafa Karim Khan"
      ],
      "metadata": {
        "id": "-RQapfOegHF5"
      }
    },
    {
      "cell_type": "code",
      "source": [
        "import pandas as pd\n",
        "import numpy as np\n",
        "from sklearn.model_selection import train_test_split\n",
        "from sklearn import linear_model\n",
        "from sklearn.linear_model import LinearRegression\n",
        "from sklearn.svm import SVR\n",
        "from sklearn.tree import DecisionTreeRegressor\n",
        "from sklearn.linear_model import Lasso\n",
        "from sklearn.ensemble import RandomForestRegressor\n",
        "import seaborn as sns\n",
        "import warnings\n",
        "warnings.filterwarnings('ignore')"
      ],
      "metadata": {
        "id": "x8TNnMlDkKlU"
      },
      "execution_count": 1,
      "outputs": []
    },
    {
      "cell_type": "code",
      "source": [
        "cwur=pd.read_csv(\"cwurData.csv\")\n",
        "cwur['broad_impact'].fillna(cwur['broad_impact'].mean(), inplace=True)"
      ],
      "metadata": {
        "id": "-z_KmsAyl-TR"
      },
      "execution_count": 3,
      "outputs": []
    },
    {
      "cell_type": "code",
      "source": [
        "import numpy as np\n",
        "\n",
        "# Selecting specific columns for X and y\n",
        "X = cwur[['quality_of_education', 'alumni_employment', 'quality_of_faculty', 'publications', 'influence', 'citations', 'patents']]\n",
        "y = cwur['score']\n"
      ],
      "metadata": {
        "id": "rJmrfktwmG66"
      },
      "execution_count": 4,
      "outputs": []
    },
    {
      "cell_type": "code",
      "source": [
        "import numpy as np\n",
        "y = np.array(y).reshape(-1, 1)\n",
        "print(\"y shape:\", y.shape)\n",
        "print(\"x shape:\", X.shape)"
      ],
      "metadata": {
        "colab": {
          "base_uri": "https://localhost:8080/"
        },
        "id": "ANLvSptpmM1u",
        "outputId": "beffca11-6a5a-4c42-bae6-7c938335115d"
      },
      "execution_count": 7,
      "outputs": [
        {
          "output_type": "stream",
          "name": "stdout",
          "text": [
            "y shape: (2200, 1)\n",
            "x shape: (2200, 7)\n"
          ]
        }
      ]
    },
    {
      "cell_type": "code",
      "source": [
        "# Splitting the data into training and testing sets (80% train, 20% test)\n",
        "X_train, X_test, y_train, y_test = train_test_split(X, y, test_size=0.2, random_state=42)"
      ],
      "metadata": {
        "id": "o_x8292vmSP8"
      },
      "execution_count": 8,
      "outputs": []
    },
    {
      "cell_type": "markdown",
      "source": [
        "Random Forest:"
      ],
      "metadata": {
        "id": "IFxpD8aXmkkF"
      }
    },
    {
      "cell_type": "code",
      "source": [
        "rf = RandomForestRegressor(n_estimators=100, random_state=0)\n",
        "rf.fit(X, y)\n",
        "y_pred_rf = rf.predict(X_test)"
      ],
      "metadata": {
        "id": "Qrd5-Oqemmzr"
      },
      "execution_count": 9,
      "outputs": []
    },
    {
      "cell_type": "markdown",
      "source": [
        "**Testing the Model:**"
      ],
      "metadata": {
        "id": "Y072OVnfmseP"
      }
    },
    {
      "cell_type": "markdown",
      "source": [
        "Using a trained model to predict the target variable based on the provided input features."
      ],
      "metadata": {
        "id": "_lpfzM4gne3W"
      }
    },
    {
      "cell_type": "code",
      "source": [
        "#Random Forest:\n",
        "y_actual = 100\n",
        "y_pred_rf = rf.predict([[7,9,1,1,1,1,5]])\n",
        "\n",
        "# Printing actual and predicted values\n",
        "print(\"Actual value:\", y_actual)\n",
        "print(\"Predicted value:\", y_pred_rf[0])"
      ],
      "metadata": {
        "colab": {
          "base_uri": "https://localhost:8080/"
        },
        "id": "r-QrTlQfmrcG",
        "outputId": "5ec846ae-afd7-41b9-a4de-20ed5ad3d14d"
      },
      "execution_count": 10,
      "outputs": [
        {
          "output_type": "stream",
          "name": "stdout",
          "text": [
            "Actual value: 100\n",
            "Predicted value: 99.42905833333333\n"
          ]
        }
      ]
    },
    {
      "cell_type": "code",
      "source": [
        "#Random Forest:\n",
        "y_actual = 91.67\n",
        "y_pred_rf = rf.predict([[9,17,3,12,4,4,1]])\n",
        "\n",
        "# Printing actual and predicted values\n",
        "print(\"Actual value:\", y_actual)\n",
        "print(\"Predicted value:\", y_pred_rf[0])"
      ],
      "metadata": {
        "colab": {
          "base_uri": "https://localhost:8080/"
        },
        "id": "8KKT3Jl7m3B5",
        "outputId": "77470bab-dccb-4b88-e85d-0b271f897f49"
      },
      "execution_count": 11,
      "outputs": [
        {
          "output_type": "stream",
          "name": "stdout",
          "text": [
            "Actual value: 91.67\n",
            "Predicted value: 91.41060000000003\n"
          ]
        }
      ]
    },
    {
      "cell_type": "code",
      "source": [
        "#Random Forest:\n",
        "y_actual = 89.50\n",
        "y_pred_rf = rf.predict([[17,11,5,4,2,2,15]])\n",
        "\n",
        "# Printing actual and predicted values\n",
        "print(\"Actual value:\", y_actual)\n",
        "print(\"Predicted value:\", y_pred_rf[0])"
      ],
      "metadata": {
        "colab": {
          "base_uri": "https://localhost:8080/"
        },
        "id": "GgttrTJZnHgr",
        "outputId": "bef9c573-8833-4c35-b6d4-a91e7795afee"
      },
      "execution_count": 14,
      "outputs": [
        {
          "output_type": "stream",
          "name": "stdout",
          "text": [
            "Actual value: 89.5\n",
            "Predicted value: 88.03429999999999\n"
          ]
        }
      ]
    },
    {
      "cell_type": "markdown",
      "source": [
        "Testing the best model we select and downloaded after Hyperparameter Optimization\n"
      ],
      "metadata": {
        "id": "jiB2YZsBuvRn"
      }
    },
    {
      "cell_type": "code",
      "source": [
        "import pickle\n",
        "\n",
        "filename = 'model.pkl'\n",
        "with open(filename, 'rb') as file:\n",
        "    model = pickle.load(file)\n"
      ],
      "metadata": {
        "id": "2iTi3_QMp9j_"
      },
      "execution_count": 15,
      "outputs": []
    },
    {
      "cell_type": "code",
      "source": [
        "predictions = model.predict(X_test)"
      ],
      "metadata": {
        "id": "VfNDkNvYuBmy"
      },
      "execution_count": 16,
      "outputs": []
    },
    {
      "cell_type": "code",
      "source": [
        "#Random Forest:\n",
        "y_actual = 89.50\n",
        "predictions = model.predict([[17,11,5,4,2,2,15]])\n",
        "# Printing actual and predicted values\n",
        "print(\"Actual value:\", y_actual)\n",
        "print(\"Predicted value:\", predictions[0])"
      ],
      "metadata": {
        "colab": {
          "base_uri": "https://localhost:8080/"
        },
        "id": "mISb2hxCuhy2",
        "outputId": "ea2de79b-4210-48f0-c335-4a71952362ee"
      },
      "execution_count": 17,
      "outputs": [
        {
          "output_type": "stream",
          "name": "stdout",
          "text": [
            "Actual value: 89.5\n",
            "Predicted value: 88.89780000000002\n"
          ]
        }
      ]
    },
    {
      "cell_type": "code",
      "source": [
        "#Random Forest:\n",
        "y_actual = 85.21\n",
        "predictions = model.predict([[2,29,7,23,22,22,18]])\n",
        "\n",
        "# Printing actual and predicted values\n",
        "print(\"Actual value:\", y_actual)\n",
        "print(\"Predicted value:\", predictions[0])"
      ],
      "metadata": {
        "colab": {
          "base_uri": "https://localhost:8080/"
        },
        "id": "063Nsdksvztt",
        "outputId": "775c9153-d5d1-455f-94b0-943bbe978ff6"
      },
      "execution_count": 22,
      "outputs": [
        {
          "output_type": "stream",
          "name": "stdout",
          "text": [
            "Actual value: 85.21\n",
            "Predicted value: 84.3598\n"
          ]
        }
      ]
    }
  ]
}