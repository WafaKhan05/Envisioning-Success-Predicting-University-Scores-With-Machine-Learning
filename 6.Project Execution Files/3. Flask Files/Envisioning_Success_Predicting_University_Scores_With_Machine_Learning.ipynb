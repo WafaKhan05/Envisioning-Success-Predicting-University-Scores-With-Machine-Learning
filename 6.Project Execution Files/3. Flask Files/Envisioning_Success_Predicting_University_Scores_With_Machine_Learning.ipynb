{
 "cells": [
  {
   "cell_type": "markdown",
   "id": "5f89db88",
   "metadata": {
    "id": "5f89db88"
   },
   "source": [
    "**Project Topic:** Envisioning Success: Predicting University Scores With Machine Learning."
   ]
  },
  {
   "cell_type": "markdown",
   "id": "3qQbrsdjjNf-",
   "metadata": {
    "id": "3qQbrsdjjNf-"
   },
   "source": [
    "\n",
    "# Collect The Dataset"
   ]
  },
  {
   "cell_type": "markdown",
   "id": "wILjRfbCiin-",
   "metadata": {
    "id": "wILjRfbCiin-"
   },
   "source": [
    "**Importing the libraries**"
   ]
  },
  {
   "cell_type": "code",
   "execution_count": 4,
   "id": "b1fa9317",
   "metadata": {
    "id": "b1fa9317"
   },
   "outputs": [],
   "source": [
    "import pandas as pd\n",
    "import numpy as np\n",
    "from sklearn.preprocessing import LabelEncoder\n",
    "from sklearn.preprocessing import StandardScaler\n",
    "from sklearn.model_selection import train_test_split\n",
    "from sklearn import linear_model\n",
    "from sklearn.linear_model import LinearRegression\n",
    "from sklearn.svm import SVR\n",
    "from sklearn.tree import DecisionTreeRegressor\n",
    "from sklearn.linear_model import Lasso\n",
    "from sklearn.ensemble import RandomForestRegressor\n",
    "\n",
    "from sklearn.metrics import mean_absolute_error\n",
    "from sklearn.metrics import mean_squared_error\n",
    "from sklearn.metrics import r2_score\n",
    "import seaborn as sns\n",
    "import matplotlib.pyplot as plt\n",
    "%matplotlib inline\n",
    "import pickle\n",
    "import warnings\n",
    "warnings.filterwarnings('ignore')\n"
   ]
  },
  {
   "cell_type": "markdown",
   "id": "UvXnzIWDjW7C",
   "metadata": {
    "id": "UvXnzIWDjW7C"
   },
   "source": [
    "**Read the Dataset**"
   ]
  },
  {
   "cell_type": "code",
   "execution_count": 5,
   "id": "ae33ac58",
   "metadata": {
    "colab": {
     "base_uri": "https://localhost:8080/",
     "height": 206
    },
    "id": "ae33ac58",
    "outputId": "d7ade84f-a5b2-4def-94dc-64e05db0c7d5"
   },
   "outputs": [
    {
     "data": {
      "text/html": [
       "<div>\n",
       "<style scoped>\n",
       "    .dataframe tbody tr th:only-of-type {\n",
       "        vertical-align: middle;\n",
       "    }\n",
       "\n",
       "    .dataframe tbody tr th {\n",
       "        vertical-align: top;\n",
       "    }\n",
       "\n",
       "    .dataframe thead th {\n",
       "        text-align: right;\n",
       "    }\n",
       "</style>\n",
       "<table border=\"1\" class=\"dataframe\">\n",
       "  <thead>\n",
       "    <tr style=\"text-align: right;\">\n",
       "      <th></th>\n",
       "      <th>school_name</th>\n",
       "      <th>country</th>\n",
       "    </tr>\n",
       "  </thead>\n",
       "  <tbody>\n",
       "    <tr>\n",
       "      <th>0</th>\n",
       "      <td>Harvard University</td>\n",
       "      <td>United States of America</td>\n",
       "    </tr>\n",
       "    <tr>\n",
       "      <th>1</th>\n",
       "      <td>California Institute of Technology</td>\n",
       "      <td>United States of America</td>\n",
       "    </tr>\n",
       "    <tr>\n",
       "      <th>2</th>\n",
       "      <td>Massachusetts Institute of Technology</td>\n",
       "      <td>United States of America</td>\n",
       "    </tr>\n",
       "    <tr>\n",
       "      <th>3</th>\n",
       "      <td>Stanford University</td>\n",
       "      <td>United States of America</td>\n",
       "    </tr>\n",
       "    <tr>\n",
       "      <th>4</th>\n",
       "      <td>Princeton University</td>\n",
       "      <td>United States of America</td>\n",
       "    </tr>\n",
       "  </tbody>\n",
       "</table>\n",
       "</div>"
      ],
      "text/plain": [
       "                             school_name                   country\n",
       "0                     Harvard University  United States of America\n",
       "1     California Institute of Technology  United States of America\n",
       "2  Massachusetts Institute of Technology  United States of America\n",
       "3                    Stanford University  United States of America\n",
       "4                   Princeton University  United States of America"
      ]
     },
     "execution_count": 5,
     "metadata": {},
     "output_type": "execute_result"
    }
   ],
   "source": [
    "snc_df=pd.read_csv(\"snc.csv\")\n",
    "snc_df.head()"
   ]
  },
  {
   "cell_type": "code",
   "execution_count": 6,
   "id": "cd7dd023",
   "metadata": {
    "colab": {
     "base_uri": "https://localhost:8080/",
     "height": 486
    },
    "id": "cd7dd023",
    "outputId": "6ab50c09-a77f-49a5-a64f-c44f94caf84f"
   },
   "outputs": [
    {
     "data": {
      "text/html": [
       "<div>\n",
       "<style scoped>\n",
       "    .dataframe tbody tr th:only-of-type {\n",
       "        vertical-align: middle;\n",
       "    }\n",
       "\n",
       "    .dataframe tbody tr th {\n",
       "        vertical-align: top;\n",
       "    }\n",
       "\n",
       "    .dataframe thead th {\n",
       "        text-align: right;\n",
       "    }\n",
       "</style>\n",
       "<table border=\"1\" class=\"dataframe\">\n",
       "  <thead>\n",
       "    <tr style=\"text-align: right;\">\n",
       "      <th></th>\n",
       "      <th>world_rank</th>\n",
       "      <th>university_name</th>\n",
       "      <th>country</th>\n",
       "      <th>teaching</th>\n",
       "      <th>international</th>\n",
       "      <th>research</th>\n",
       "      <th>citations</th>\n",
       "      <th>income</th>\n",
       "      <th>total_score</th>\n",
       "      <th>num_students</th>\n",
       "      <th>student_staff_ratio</th>\n",
       "      <th>international_students</th>\n",
       "      <th>female_male_ratio</th>\n",
       "      <th>year</th>\n",
       "    </tr>\n",
       "  </thead>\n",
       "  <tbody>\n",
       "    <tr>\n",
       "      <th>0</th>\n",
       "      <td>1</td>\n",
       "      <td>Harvard University</td>\n",
       "      <td>United States of America</td>\n",
       "      <td>99.7</td>\n",
       "      <td>72.4</td>\n",
       "      <td>98.7</td>\n",
       "      <td>98.8</td>\n",
       "      <td>34.5</td>\n",
       "      <td>96.1</td>\n",
       "      <td>20,152</td>\n",
       "      <td>8.9</td>\n",
       "      <td>25%</td>\n",
       "      <td>NaN</td>\n",
       "      <td>2011</td>\n",
       "    </tr>\n",
       "    <tr>\n",
       "      <th>1</th>\n",
       "      <td>2</td>\n",
       "      <td>California Institute of Technology</td>\n",
       "      <td>United States of America</td>\n",
       "      <td>97.7</td>\n",
       "      <td>54.6</td>\n",
       "      <td>98.0</td>\n",
       "      <td>99.9</td>\n",
       "      <td>83.7</td>\n",
       "      <td>96.0</td>\n",
       "      <td>2,243</td>\n",
       "      <td>6.9</td>\n",
       "      <td>27%</td>\n",
       "      <td>33 : 67</td>\n",
       "      <td>2011</td>\n",
       "    </tr>\n",
       "    <tr>\n",
       "      <th>2</th>\n",
       "      <td>3</td>\n",
       "      <td>Massachusetts Institute of Technology</td>\n",
       "      <td>United States of America</td>\n",
       "      <td>97.8</td>\n",
       "      <td>82.3</td>\n",
       "      <td>91.4</td>\n",
       "      <td>99.9</td>\n",
       "      <td>87.5</td>\n",
       "      <td>95.6</td>\n",
       "      <td>11,074</td>\n",
       "      <td>9.0</td>\n",
       "      <td>33%</td>\n",
       "      <td>37 : 63</td>\n",
       "      <td>2011</td>\n",
       "    </tr>\n",
       "    <tr>\n",
       "      <th>3</th>\n",
       "      <td>4</td>\n",
       "      <td>Stanford University</td>\n",
       "      <td>United States of America</td>\n",
       "      <td>98.3</td>\n",
       "      <td>29.5</td>\n",
       "      <td>98.1</td>\n",
       "      <td>99.2</td>\n",
       "      <td>64.3</td>\n",
       "      <td>94.3</td>\n",
       "      <td>15,596</td>\n",
       "      <td>7.8</td>\n",
       "      <td>22%</td>\n",
       "      <td>42 : 58</td>\n",
       "      <td>2011</td>\n",
       "    </tr>\n",
       "    <tr>\n",
       "      <th>4</th>\n",
       "      <td>5</td>\n",
       "      <td>Princeton University</td>\n",
       "      <td>United States of America</td>\n",
       "      <td>90.9</td>\n",
       "      <td>70.3</td>\n",
       "      <td>95.4</td>\n",
       "      <td>99.9</td>\n",
       "      <td>-</td>\n",
       "      <td>94.2</td>\n",
       "      <td>7,929</td>\n",
       "      <td>8.4</td>\n",
       "      <td>27%</td>\n",
       "      <td>45 : 55</td>\n",
       "      <td>2011</td>\n",
       "    </tr>\n",
       "  </tbody>\n",
       "</table>\n",
       "</div>"
      ],
      "text/plain": [
       "  world_rank                        university_name                   country  \\\n",
       "0          1                     Harvard University  United States of America   \n",
       "1          2     California Institute of Technology  United States of America   \n",
       "2          3  Massachusetts Institute of Technology  United States of America   \n",
       "3          4                    Stanford University  United States of America   \n",
       "4          5                   Princeton University  United States of America   \n",
       "\n",
       "   teaching international  research  citations income total_score  \\\n",
       "0      99.7          72.4      98.7       98.8   34.5        96.1   \n",
       "1      97.7          54.6      98.0       99.9   83.7        96.0   \n",
       "2      97.8          82.3      91.4       99.9   87.5        95.6   \n",
       "3      98.3          29.5      98.1       99.2   64.3        94.3   \n",
       "4      90.9          70.3      95.4       99.9      -        94.2   \n",
       "\n",
       "  num_students  student_staff_ratio international_students female_male_ratio  \\\n",
       "0       20,152                  8.9                    25%               NaN   \n",
       "1        2,243                  6.9                    27%           33 : 67   \n",
       "2       11,074                  9.0                    33%           37 : 63   \n",
       "3       15,596                  7.8                    22%           42 : 58   \n",
       "4        7,929                  8.4                    27%           45 : 55   \n",
       "\n",
       "   year  \n",
       "0  2011  \n",
       "1  2011  \n",
       "2  2011  \n",
       "3  2011  \n",
       "4  2011  "
      ]
     },
     "execution_count": 6,
     "metadata": {},
     "output_type": "execute_result"
    }
   ],
   "source": [
    "times=pd.read_csv(\"timesData.csv\")\n",
    "times.head()"
   ]
  },
  {
   "cell_type": "code",
   "execution_count": 7,
   "id": "17292c74",
   "metadata": {
    "colab": {
     "base_uri": "https://localhost:8080/",
     "height": 347
    },
    "id": "17292c74",
    "outputId": "9a993ab5-22c7-473d-b96e-4ef4d95a9ee5"
   },
   "outputs": [
    {
     "data": {
      "text/html": [
       "<div>\n",
       "<style scoped>\n",
       "    .dataframe tbody tr th:only-of-type {\n",
       "        vertical-align: middle;\n",
       "    }\n",
       "\n",
       "    .dataframe tbody tr th {\n",
       "        vertical-align: top;\n",
       "    }\n",
       "\n",
       "    .dataframe thead th {\n",
       "        text-align: right;\n",
       "    }\n",
       "</style>\n",
       "<table border=\"1\" class=\"dataframe\">\n",
       "  <thead>\n",
       "    <tr style=\"text-align: right;\">\n",
       "      <th></th>\n",
       "      <th>world_rank</th>\n",
       "      <th>institution</th>\n",
       "      <th>country</th>\n",
       "      <th>national_rank</th>\n",
       "      <th>quality_of_education</th>\n",
       "      <th>alumni_employment</th>\n",
       "      <th>quality_of_faculty</th>\n",
       "      <th>publications</th>\n",
       "      <th>influence</th>\n",
       "      <th>citations</th>\n",
       "      <th>broad_impact</th>\n",
       "      <th>patents</th>\n",
       "      <th>score</th>\n",
       "      <th>year</th>\n",
       "    </tr>\n",
       "  </thead>\n",
       "  <tbody>\n",
       "    <tr>\n",
       "      <th>0</th>\n",
       "      <td>1</td>\n",
       "      <td>Harvard University</td>\n",
       "      <td>USA</td>\n",
       "      <td>1</td>\n",
       "      <td>7</td>\n",
       "      <td>9</td>\n",
       "      <td>1</td>\n",
       "      <td>1</td>\n",
       "      <td>1</td>\n",
       "      <td>1</td>\n",
       "      <td>NaN</td>\n",
       "      <td>5</td>\n",
       "      <td>100.00</td>\n",
       "      <td>2012</td>\n",
       "    </tr>\n",
       "    <tr>\n",
       "      <th>1</th>\n",
       "      <td>2</td>\n",
       "      <td>Massachusetts Institute of Technology</td>\n",
       "      <td>USA</td>\n",
       "      <td>2</td>\n",
       "      <td>9</td>\n",
       "      <td>17</td>\n",
       "      <td>3</td>\n",
       "      <td>12</td>\n",
       "      <td>4</td>\n",
       "      <td>4</td>\n",
       "      <td>NaN</td>\n",
       "      <td>1</td>\n",
       "      <td>91.67</td>\n",
       "      <td>2012</td>\n",
       "    </tr>\n",
       "    <tr>\n",
       "      <th>2</th>\n",
       "      <td>3</td>\n",
       "      <td>Stanford University</td>\n",
       "      <td>USA</td>\n",
       "      <td>3</td>\n",
       "      <td>17</td>\n",
       "      <td>11</td>\n",
       "      <td>5</td>\n",
       "      <td>4</td>\n",
       "      <td>2</td>\n",
       "      <td>2</td>\n",
       "      <td>NaN</td>\n",
       "      <td>15</td>\n",
       "      <td>89.50</td>\n",
       "      <td>2012</td>\n",
       "    </tr>\n",
       "    <tr>\n",
       "      <th>3</th>\n",
       "      <td>4</td>\n",
       "      <td>University of Cambridge</td>\n",
       "      <td>United Kingdom</td>\n",
       "      <td>1</td>\n",
       "      <td>10</td>\n",
       "      <td>24</td>\n",
       "      <td>4</td>\n",
       "      <td>16</td>\n",
       "      <td>16</td>\n",
       "      <td>11</td>\n",
       "      <td>NaN</td>\n",
       "      <td>50</td>\n",
       "      <td>86.17</td>\n",
       "      <td>2012</td>\n",
       "    </tr>\n",
       "    <tr>\n",
       "      <th>4</th>\n",
       "      <td>5</td>\n",
       "      <td>California Institute of Technology</td>\n",
       "      <td>USA</td>\n",
       "      <td>4</td>\n",
       "      <td>2</td>\n",
       "      <td>29</td>\n",
       "      <td>7</td>\n",
       "      <td>37</td>\n",
       "      <td>22</td>\n",
       "      <td>22</td>\n",
       "      <td>NaN</td>\n",
       "      <td>18</td>\n",
       "      <td>85.21</td>\n",
       "      <td>2012</td>\n",
       "    </tr>\n",
       "  </tbody>\n",
       "</table>\n",
       "</div>"
      ],
      "text/plain": [
       "   world_rank                            institution         country  \\\n",
       "0           1                     Harvard University             USA   \n",
       "1           2  Massachusetts Institute of Technology             USA   \n",
       "2           3                    Stanford University             USA   \n",
       "3           4                University of Cambridge  United Kingdom   \n",
       "4           5     California Institute of Technology             USA   \n",
       "\n",
       "   national_rank  quality_of_education  alumni_employment  quality_of_faculty  \\\n",
       "0              1                     7                  9                   1   \n",
       "1              2                     9                 17                   3   \n",
       "2              3                    17                 11                   5   \n",
       "3              1                    10                 24                   4   \n",
       "4              4                     2                 29                   7   \n",
       "\n",
       "   publications  influence  citations  broad_impact  patents   score  year  \n",
       "0             1          1          1           NaN        5  100.00  2012  \n",
       "1            12          4          4           NaN        1   91.67  2012  \n",
       "2             4          2          2           NaN       15   89.50  2012  \n",
       "3            16         16         11           NaN       50   86.17  2012  \n",
       "4            37         22         22           NaN       18   85.21  2012  "
      ]
     },
     "execution_count": 7,
     "metadata": {},
     "output_type": "execute_result"
    }
   ],
   "source": [
    "cwur=pd.read_csv(\"cwurData.csv\")\n",
    "cwur.head()"
   ]
  },
  {
   "cell_type": "markdown",
   "id": "8nROYkotkNSG",
   "metadata": {
    "id": "8nROYkotkNSG"
   },
   "source": [
    "**Handling missing values**"
   ]
  },
  {
   "cell_type": "code",
   "execution_count": 8,
   "id": "a4e0dcca",
   "metadata": {
    "colab": {
     "base_uri": "https://localhost:8080/"
    },
    "id": "a4e0dcca",
    "outputId": "5760e00c-0819-4525-aa86-657fa10fbe28"
   },
   "outputs": [
    {
     "data": {
      "text/plain": [
       "school_name    0\n",
       "country        0\n",
       "dtype: int64"
      ]
     },
     "execution_count": 8,
     "metadata": {},
     "output_type": "execute_result"
    }
   ],
   "source": [
    "snc_df.isnull().sum()"
   ]
  },
  {
   "cell_type": "code",
   "execution_count": 9,
   "id": "3699a5ee",
   "metadata": {
    "colab": {
     "base_uri": "https://localhost:8080/"
    },
    "id": "3699a5ee",
    "outputId": "db52e17c-88bf-4d6b-e56c-b9d62c91682b"
   },
   "outputs": [
    {
     "data": {
      "text/plain": [
       "world_rank                  0\n",
       "university_name             0\n",
       "country                     0\n",
       "teaching                    0\n",
       "international               0\n",
       "research                    0\n",
       "citations                   0\n",
       "income                      0\n",
       "total_score                 0\n",
       "num_students               59\n",
       "student_staff_ratio        59\n",
       "international_students     67\n",
       "female_male_ratio         233\n",
       "year                        0\n",
       "dtype: int64"
      ]
     },
     "execution_count": 9,
     "metadata": {},
     "output_type": "execute_result"
    }
   ],
   "source": [
    "times.isnull().sum()"
   ]
  },
  {
   "cell_type": "code",
   "execution_count": 10,
   "id": "7e32ac5c",
   "metadata": {
    "id": "7e32ac5c"
   },
   "outputs": [],
   "source": [
    "times['student_staff_ratio'].fillna(times['student_staff_ratio'].mean(), inplace=True)\n",
    "times['international_students'].fillna(times['international_students'].mode()[0], inplace=True)\n",
    "mode_value = times['female_male_ratio'].mode()[0]\n",
    "times['female_male_ratio'].fillna(mode_value, inplace=True)\n",
    "times['num_students'] = pd.to_numeric(times['num_students'], errors='coerce')\n",
    "times['num_students'].fillna(times['num_students'].mean(), inplace=True)\n"
   ]
  },
  {
   "cell_type": "code",
   "execution_count": 11,
   "id": "m3cLOudJlWCT",
   "metadata": {
    "colab": {
     "base_uri": "https://localhost:8080/"
    },
    "id": "m3cLOudJlWCT",
    "outputId": "c9beb0de-92fa-43c1-b24d-8d913194bdc2"
   },
   "outputs": [
    {
     "data": {
      "text/plain": [
       "world_rank                0\n",
       "university_name           0\n",
       "country                   0\n",
       "teaching                  0\n",
       "international             0\n",
       "research                  0\n",
       "citations                 0\n",
       "income                    0\n",
       "total_score               0\n",
       "num_students              0\n",
       "student_staff_ratio       0\n",
       "international_students    0\n",
       "female_male_ratio         0\n",
       "year                      0\n",
       "dtype: int64"
      ]
     },
     "execution_count": 11,
     "metadata": {},
     "output_type": "execute_result"
    }
   ],
   "source": [
    "times.isnull().sum()"
   ]
  },
  {
   "cell_type": "code",
   "execution_count": 12,
   "id": "9dcf35db",
   "metadata": {
    "colab": {
     "base_uri": "https://localhost:8080/"
    },
    "id": "9dcf35db",
    "outputId": "97ef59fc-4335-498d-db44-25a0cd9673a2"
   },
   "outputs": [
    {
     "data": {
      "text/plain": [
       "world_rank                0\n",
       "institution               0\n",
       "country                   0\n",
       "national_rank             0\n",
       "quality_of_education      0\n",
       "alumni_employment         0\n",
       "quality_of_faculty        0\n",
       "publications              0\n",
       "influence                 0\n",
       "citations                 0\n",
       "broad_impact            200\n",
       "patents                   0\n",
       "score                     0\n",
       "year                      0\n",
       "dtype: int64"
      ]
     },
     "execution_count": 12,
     "metadata": {},
     "output_type": "execute_result"
    }
   ],
   "source": [
    "cwur.isnull().sum()"
   ]
  },
  {
   "cell_type": "code",
   "execution_count": 13,
   "id": "7e1cc40c",
   "metadata": {
    "id": "7e1cc40c"
   },
   "outputs": [],
   "source": [
    "cwur['broad_impact'].fillna(cwur['broad_impact'].mean(), inplace=True)"
   ]
  },
  {
   "cell_type": "code",
   "execution_count": 14,
   "id": "b96b0de9",
   "metadata": {
    "colab": {
     "base_uri": "https://localhost:8080/"
    },
    "id": "b96b0de9",
    "outputId": "685bdebb-1298-4167-d63c-24589f5c7796"
   },
   "outputs": [
    {
     "data": {
      "text/plain": [
       "world_rank              0\n",
       "institution             0\n",
       "country                 0\n",
       "national_rank           0\n",
       "quality_of_education    0\n",
       "alumni_employment       0\n",
       "quality_of_faculty      0\n",
       "publications            0\n",
       "influence               0\n",
       "citations               0\n",
       "broad_impact            0\n",
       "patents                 0\n",
       "score                   0\n",
       "year                    0\n",
       "dtype: int64"
      ]
     },
     "execution_count": 14,
     "metadata": {},
     "output_type": "execute_result"
    }
   ],
   "source": [
    "cwur.isnull().sum()"
   ]
  },
  {
   "cell_type": "markdown",
   "id": "sccOA216rc8F",
   "metadata": {
    "id": "sccOA216rc8F"
   },
   "source": [
    "**Handling Categorical Values**"
   ]
  },
  {
   "cell_type": "code",
   "execution_count": 15,
   "id": "-TsLRLmgrjM5",
   "metadata": {
    "colab": {
     "base_uri": "https://localhost:8080/"
    },
    "id": "-TsLRLmgrjM5",
    "outputId": "7e47752e-ef4f-4b66-929c-bef81e3081bd"
   },
   "outputs": [
    {
     "name": "stdout",
     "output_type": "stream",
     "text": [
      "Data type of each column of timesData Dataframe\n",
      "\n",
      "world_rank                int64\n",
      "institution              object\n",
      "country                  object\n",
      "national_rank             int64\n",
      "quality_of_education      int64\n",
      "alumni_employment         int64\n",
      "quality_of_faculty        int64\n",
      "publications              int64\n",
      "influence                 int64\n",
      "citations                 int64\n",
      "broad_impact            float64\n",
      "patents                   int64\n",
      "score                   float64\n",
      "year                      int64\n",
      "dtype: object\n"
     ]
    }
   ],
   "source": [
    "dataTypeSeries = cwur.dtypes\n",
    "print('Data type of each column of timesData Dataframe\\n')\n",
    "print(dataTypeSeries)"
   ]
  },
  {
   "cell_type": "code",
   "execution_count": 16,
   "id": "jt2Jivb055xW",
   "metadata": {
    "colab": {
     "base_uri": "https://localhost:8080/"
    },
    "id": "jt2Jivb055xW",
    "outputId": "bd45f3c2-53d0-4c03-8e4a-11585728fa6c"
   },
   "outputs": [
    {
     "name": "stdout",
     "output_type": "stream",
     "text": [
      "Data type of each column of timesData Dataframe\n",
      "\n",
      "world_rank                 object\n",
      "university_name            object\n",
      "country                    object\n",
      "teaching                  float64\n",
      "international              object\n",
      "research                  float64\n",
      "citations                 float64\n",
      "income                     object\n",
      "total_score                object\n",
      "num_students              float64\n",
      "student_staff_ratio       float64\n",
      "international_students     object\n",
      "female_male_ratio          object\n",
      "year                        int64\n",
      "dtype: object\n"
     ]
    }
   ],
   "source": [
    "dataTypeSeries = times.dtypes\n",
    "print('Data type of each column of timesData Dataframe\\n')\n",
    "print(dataTypeSeries)"
   ]
  },
  {
   "cell_type": "markdown",
   "id": "ECi123sEsFO0",
   "metadata": {
    "id": "ECi123sEsFO0"
   },
   "source": [
    "Data Transformation:"
   ]
  },
  {
   "cell_type": "code",
   "execution_count": 17,
   "id": "3pgBOB7f5z5K",
   "metadata": {
    "id": "3pgBOB7f5z5K"
   },
   "outputs": [],
   "source": [
    "times['world_rank'] = pd.to_numeric(times['world_rank'], errors='coerce')\n",
    "times['female_male_ratio'] = pd.to_numeric(times['female_male_ratio'], errors='coerce')\n",
    "times['income'] = pd.to_numeric(times['income'], errors='coerce')\n",
    "times['total_score'] = pd.to_numeric(times['total_score'], errors='coerce')\n",
    "times['international_students'] = pd.to_numeric(times['international_students'], errors='coerce')\n",
    "times['international'] = pd.to_numeric(times['international'], errors='coerce')"
   ]
  },
  {
   "cell_type": "markdown",
   "id": "_vuNp05mkkke",
   "metadata": {
    "id": "_vuNp05mkkke"
   },
   "source": [
    "# Exploratory Data Analysis"
   ]
  },
  {
   "cell_type": "markdown",
   "id": "vZ-_3zJOkt5h",
   "metadata": {
    "id": "vZ-_3zJOkt5h"
   },
   "source": [
    "**Descriptive Statistical**"
   ]
  },
  {
   "cell_type": "code",
   "execution_count": 18,
   "id": "m1Gw5zqhldek",
   "metadata": {
    "colab": {
     "base_uri": "https://localhost:8080/",
     "height": 175
    },
    "id": "m1Gw5zqhldek",
    "outputId": "1402edf2-a47e-4ae5-eb59-634efde99378"
   },
   "outputs": [
    {
     "data": {
      "text/html": [
       "<div>\n",
       "<style scoped>\n",
       "    .dataframe tbody tr th:only-of-type {\n",
       "        vertical-align: middle;\n",
       "    }\n",
       "\n",
       "    .dataframe tbody tr th {\n",
       "        vertical-align: top;\n",
       "    }\n",
       "\n",
       "    .dataframe thead th {\n",
       "        text-align: right;\n",
       "    }\n",
       "</style>\n",
       "<table border=\"1\" class=\"dataframe\">\n",
       "  <thead>\n",
       "    <tr style=\"text-align: right;\">\n",
       "      <th></th>\n",
       "      <th>school_name</th>\n",
       "      <th>country</th>\n",
       "    </tr>\n",
       "  </thead>\n",
       "  <tbody>\n",
       "    <tr>\n",
       "      <th>count</th>\n",
       "      <td>818</td>\n",
       "      <td>818</td>\n",
       "    </tr>\n",
       "    <tr>\n",
       "      <th>unique</th>\n",
       "      <td>818</td>\n",
       "      <td>70</td>\n",
       "    </tr>\n",
       "    <tr>\n",
       "      <th>top</th>\n",
       "      <td>Harvard University</td>\n",
       "      <td>United States of America</td>\n",
       "    </tr>\n",
       "    <tr>\n",
       "      <th>freq</th>\n",
       "      <td>1</td>\n",
       "      <td>161</td>\n",
       "    </tr>\n",
       "  </tbody>\n",
       "</table>\n",
       "</div>"
      ],
      "text/plain": [
       "               school_name                   country\n",
       "count                  818                       818\n",
       "unique                 818                        70\n",
       "top     Harvard University  United States of America\n",
       "freq                     1                       161"
      ]
     },
     "execution_count": 18,
     "metadata": {},
     "output_type": "execute_result"
    }
   ],
   "source": [
    "snc_df.describe(include='all')"
   ]
  },
  {
   "cell_type": "code",
   "execution_count": 19,
   "id": "QCOEIUK5k8_T",
   "metadata": {
    "colab": {
     "base_uri": "https://localhost:8080/",
     "height": 431
    },
    "id": "QCOEIUK5k8_T",
    "outputId": "1fed8acd-4590-4148-aa2f-237d26634c80"
   },
   "outputs": [
    {
     "data": {
      "text/html": [
       "<div>\n",
       "<style scoped>\n",
       "    .dataframe tbody tr th:only-of-type {\n",
       "        vertical-align: middle;\n",
       "    }\n",
       "\n",
       "    .dataframe tbody tr th {\n",
       "        vertical-align: top;\n",
       "    }\n",
       "\n",
       "    .dataframe thead th {\n",
       "        text-align: right;\n",
       "    }\n",
       "</style>\n",
       "<table border=\"1\" class=\"dataframe\">\n",
       "  <thead>\n",
       "    <tr style=\"text-align: right;\">\n",
       "      <th></th>\n",
       "      <th>world_rank</th>\n",
       "      <th>institution</th>\n",
       "      <th>country</th>\n",
       "      <th>national_rank</th>\n",
       "      <th>quality_of_education</th>\n",
       "      <th>alumni_employment</th>\n",
       "      <th>quality_of_faculty</th>\n",
       "      <th>publications</th>\n",
       "      <th>influence</th>\n",
       "      <th>citations</th>\n",
       "      <th>broad_impact</th>\n",
       "      <th>patents</th>\n",
       "      <th>score</th>\n",
       "      <th>year</th>\n",
       "    </tr>\n",
       "  </thead>\n",
       "  <tbody>\n",
       "    <tr>\n",
       "      <th>count</th>\n",
       "      <td>2200.000000</td>\n",
       "      <td>2200</td>\n",
       "      <td>2200</td>\n",
       "      <td>2200.000000</td>\n",
       "      <td>2200.000000</td>\n",
       "      <td>2200.000000</td>\n",
       "      <td>2200.000000</td>\n",
       "      <td>2200.000000</td>\n",
       "      <td>2200.000000</td>\n",
       "      <td>2200.000000</td>\n",
       "      <td>2200.000000</td>\n",
       "      <td>2200.000000</td>\n",
       "      <td>2200.000000</td>\n",
       "      <td>2200.000000</td>\n",
       "    </tr>\n",
       "    <tr>\n",
       "      <th>unique</th>\n",
       "      <td>NaN</td>\n",
       "      <td>1024</td>\n",
       "      <td>59</td>\n",
       "      <td>NaN</td>\n",
       "      <td>NaN</td>\n",
       "      <td>NaN</td>\n",
       "      <td>NaN</td>\n",
       "      <td>NaN</td>\n",
       "      <td>NaN</td>\n",
       "      <td>NaN</td>\n",
       "      <td>NaN</td>\n",
       "      <td>NaN</td>\n",
       "      <td>NaN</td>\n",
       "      <td>NaN</td>\n",
       "    </tr>\n",
       "    <tr>\n",
       "      <th>top</th>\n",
       "      <td>NaN</td>\n",
       "      <td>Harvard University</td>\n",
       "      <td>USA</td>\n",
       "      <td>NaN</td>\n",
       "      <td>NaN</td>\n",
       "      <td>NaN</td>\n",
       "      <td>NaN</td>\n",
       "      <td>NaN</td>\n",
       "      <td>NaN</td>\n",
       "      <td>NaN</td>\n",
       "      <td>NaN</td>\n",
       "      <td>NaN</td>\n",
       "      <td>NaN</td>\n",
       "      <td>NaN</td>\n",
       "    </tr>\n",
       "    <tr>\n",
       "      <th>freq</th>\n",
       "      <td>NaN</td>\n",
       "      <td>4</td>\n",
       "      <td>573</td>\n",
       "      <td>NaN</td>\n",
       "      <td>NaN</td>\n",
       "      <td>NaN</td>\n",
       "      <td>NaN</td>\n",
       "      <td>NaN</td>\n",
       "      <td>NaN</td>\n",
       "      <td>NaN</td>\n",
       "      <td>NaN</td>\n",
       "      <td>NaN</td>\n",
       "      <td>NaN</td>\n",
       "      <td>NaN</td>\n",
       "    </tr>\n",
       "    <tr>\n",
       "      <th>mean</th>\n",
       "      <td>459.590909</td>\n",
       "      <td>NaN</td>\n",
       "      <td>NaN</td>\n",
       "      <td>40.278182</td>\n",
       "      <td>275.100455</td>\n",
       "      <td>357.116818</td>\n",
       "      <td>178.888182</td>\n",
       "      <td>459.908636</td>\n",
       "      <td>459.797727</td>\n",
       "      <td>413.417273</td>\n",
       "      <td>496.699500</td>\n",
       "      <td>433.346364</td>\n",
       "      <td>47.798395</td>\n",
       "      <td>2014.318182</td>\n",
       "    </tr>\n",
       "    <tr>\n",
       "      <th>std</th>\n",
       "      <td>304.320363</td>\n",
       "      <td>NaN</td>\n",
       "      <td>NaN</td>\n",
       "      <td>51.740870</td>\n",
       "      <td>121.935100</td>\n",
       "      <td>186.779252</td>\n",
       "      <td>64.050885</td>\n",
       "      <td>303.760352</td>\n",
       "      <td>303.331822</td>\n",
       "      <td>264.366549</td>\n",
       "      <td>273.561032</td>\n",
       "      <td>273.996525</td>\n",
       "      <td>7.760806</td>\n",
       "      <td>0.762130</td>\n",
       "    </tr>\n",
       "    <tr>\n",
       "      <th>min</th>\n",
       "      <td>1.000000</td>\n",
       "      <td>NaN</td>\n",
       "      <td>NaN</td>\n",
       "      <td>1.000000</td>\n",
       "      <td>1.000000</td>\n",
       "      <td>1.000000</td>\n",
       "      <td>1.000000</td>\n",
       "      <td>1.000000</td>\n",
       "      <td>1.000000</td>\n",
       "      <td>1.000000</td>\n",
       "      <td>1.000000</td>\n",
       "      <td>1.000000</td>\n",
       "      <td>43.360000</td>\n",
       "      <td>2012.000000</td>\n",
       "    </tr>\n",
       "    <tr>\n",
       "      <th>25%</th>\n",
       "      <td>175.750000</td>\n",
       "      <td>NaN</td>\n",
       "      <td>NaN</td>\n",
       "      <td>6.000000</td>\n",
       "      <td>175.750000</td>\n",
       "      <td>175.750000</td>\n",
       "      <td>175.750000</td>\n",
       "      <td>175.750000</td>\n",
       "      <td>175.750000</td>\n",
       "      <td>161.000000</td>\n",
       "      <td>273.000000</td>\n",
       "      <td>170.750000</td>\n",
       "      <td>44.460000</td>\n",
       "      <td>2014.000000</td>\n",
       "    </tr>\n",
       "    <tr>\n",
       "      <th>50%</th>\n",
       "      <td>450.500000</td>\n",
       "      <td>NaN</td>\n",
       "      <td>NaN</td>\n",
       "      <td>21.000000</td>\n",
       "      <td>355.000000</td>\n",
       "      <td>450.500000</td>\n",
       "      <td>210.000000</td>\n",
       "      <td>450.500000</td>\n",
       "      <td>450.500000</td>\n",
       "      <td>406.000000</td>\n",
       "      <td>496.699500</td>\n",
       "      <td>426.000000</td>\n",
       "      <td>45.100000</td>\n",
       "      <td>2014.000000</td>\n",
       "    </tr>\n",
       "    <tr>\n",
       "      <th>75%</th>\n",
       "      <td>725.250000</td>\n",
       "      <td>NaN</td>\n",
       "      <td>NaN</td>\n",
       "      <td>49.000000</td>\n",
       "      <td>367.000000</td>\n",
       "      <td>478.000000</td>\n",
       "      <td>218.000000</td>\n",
       "      <td>725.000000</td>\n",
       "      <td>725.250000</td>\n",
       "      <td>645.000000</td>\n",
       "      <td>716.000000</td>\n",
       "      <td>714.250000</td>\n",
       "      <td>47.545000</td>\n",
       "      <td>2015.000000</td>\n",
       "    </tr>\n",
       "    <tr>\n",
       "      <th>max</th>\n",
       "      <td>1000.000000</td>\n",
       "      <td>NaN</td>\n",
       "      <td>NaN</td>\n",
       "      <td>229.000000</td>\n",
       "      <td>367.000000</td>\n",
       "      <td>567.000000</td>\n",
       "      <td>218.000000</td>\n",
       "      <td>1000.000000</td>\n",
       "      <td>991.000000</td>\n",
       "      <td>812.000000</td>\n",
       "      <td>1000.000000</td>\n",
       "      <td>871.000000</td>\n",
       "      <td>100.000000</td>\n",
       "      <td>2015.000000</td>\n",
       "    </tr>\n",
       "  </tbody>\n",
       "</table>\n",
       "</div>"
      ],
      "text/plain": [
       "         world_rank         institution country  national_rank  \\\n",
       "count   2200.000000                2200    2200    2200.000000   \n",
       "unique          NaN                1024      59            NaN   \n",
       "top             NaN  Harvard University     USA            NaN   \n",
       "freq            NaN                   4     573            NaN   \n",
       "mean     459.590909                 NaN     NaN      40.278182   \n",
       "std      304.320363                 NaN     NaN      51.740870   \n",
       "min        1.000000                 NaN     NaN       1.000000   \n",
       "25%      175.750000                 NaN     NaN       6.000000   \n",
       "50%      450.500000                 NaN     NaN      21.000000   \n",
       "75%      725.250000                 NaN     NaN      49.000000   \n",
       "max     1000.000000                 NaN     NaN     229.000000   \n",
       "\n",
       "        quality_of_education  alumni_employment  quality_of_faculty  \\\n",
       "count            2200.000000        2200.000000         2200.000000   \n",
       "unique                   NaN                NaN                 NaN   \n",
       "top                      NaN                NaN                 NaN   \n",
       "freq                     NaN                NaN                 NaN   \n",
       "mean              275.100455         357.116818          178.888182   \n",
       "std               121.935100         186.779252           64.050885   \n",
       "min                 1.000000           1.000000            1.000000   \n",
       "25%               175.750000         175.750000          175.750000   \n",
       "50%               355.000000         450.500000          210.000000   \n",
       "75%               367.000000         478.000000          218.000000   \n",
       "max               367.000000         567.000000          218.000000   \n",
       "\n",
       "        publications    influence    citations  broad_impact      patents  \\\n",
       "count    2200.000000  2200.000000  2200.000000   2200.000000  2200.000000   \n",
       "unique           NaN          NaN          NaN           NaN          NaN   \n",
       "top              NaN          NaN          NaN           NaN          NaN   \n",
       "freq             NaN          NaN          NaN           NaN          NaN   \n",
       "mean      459.908636   459.797727   413.417273    496.699500   433.346364   \n",
       "std       303.760352   303.331822   264.366549    273.561032   273.996525   \n",
       "min         1.000000     1.000000     1.000000      1.000000     1.000000   \n",
       "25%       175.750000   175.750000   161.000000    273.000000   170.750000   \n",
       "50%       450.500000   450.500000   406.000000    496.699500   426.000000   \n",
       "75%       725.000000   725.250000   645.000000    716.000000   714.250000   \n",
       "max      1000.000000   991.000000   812.000000   1000.000000   871.000000   \n",
       "\n",
       "              score         year  \n",
       "count   2200.000000  2200.000000  \n",
       "unique          NaN          NaN  \n",
       "top             NaN          NaN  \n",
       "freq            NaN          NaN  \n",
       "mean      47.798395  2014.318182  \n",
       "std        7.760806     0.762130  \n",
       "min       43.360000  2012.000000  \n",
       "25%       44.460000  2014.000000  \n",
       "50%       45.100000  2014.000000  \n",
       "75%       47.545000  2015.000000  \n",
       "max      100.000000  2015.000000  "
      ]
     },
     "execution_count": 19,
     "metadata": {},
     "output_type": "execute_result"
    }
   ],
   "source": [
    "cwur.describe(include='all')"
   ]
  },
  {
   "cell_type": "code",
   "execution_count": 20,
   "id": "yi1qWdaElEMh",
   "metadata": {
    "colab": {
     "base_uri": "https://localhost:8080/",
     "height": 466
    },
    "id": "yi1qWdaElEMh",
    "outputId": "dd5ca254-d85e-440d-9119-1056c730e6f3"
   },
   "outputs": [
    {
     "data": {
      "text/html": [
       "<div>\n",
       "<style scoped>\n",
       "    .dataframe tbody tr th:only-of-type {\n",
       "        vertical-align: middle;\n",
       "    }\n",
       "\n",
       "    .dataframe tbody tr th {\n",
       "        vertical-align: top;\n",
       "    }\n",
       "\n",
       "    .dataframe thead th {\n",
       "        text-align: right;\n",
       "    }\n",
       "</style>\n",
       "<table border=\"1\" class=\"dataframe\">\n",
       "  <thead>\n",
       "    <tr style=\"text-align: right;\">\n",
       "      <th></th>\n",
       "      <th>world_rank</th>\n",
       "      <th>university_name</th>\n",
       "      <th>country</th>\n",
       "      <th>teaching</th>\n",
       "      <th>international</th>\n",
       "      <th>research</th>\n",
       "      <th>citations</th>\n",
       "      <th>income</th>\n",
       "      <th>total_score</th>\n",
       "      <th>num_students</th>\n",
       "      <th>student_staff_ratio</th>\n",
       "      <th>international_students</th>\n",
       "      <th>female_male_ratio</th>\n",
       "      <th>year</th>\n",
       "    </tr>\n",
       "  </thead>\n",
       "  <tbody>\n",
       "    <tr>\n",
       "      <th>count</th>\n",
       "      <td>1112.000000</td>\n",
       "      <td>2603</td>\n",
       "      <td>2603</td>\n",
       "      <td>2603.000000</td>\n",
       "      <td>2594.000000</td>\n",
       "      <td>2603.000000</td>\n",
       "      <td>2603.000000</td>\n",
       "      <td>2385.000000</td>\n",
       "      <td>1201.000000</td>\n",
       "      <td>2603.000000</td>\n",
       "      <td>2603.000000</td>\n",
       "      <td>0.0</td>\n",
       "      <td>0.0</td>\n",
       "      <td>2603.000000</td>\n",
       "    </tr>\n",
       "    <tr>\n",
       "      <th>unique</th>\n",
       "      <td>NaN</td>\n",
       "      <td>818</td>\n",
       "      <td>72</td>\n",
       "      <td>NaN</td>\n",
       "      <td>NaN</td>\n",
       "      <td>NaN</td>\n",
       "      <td>NaN</td>\n",
       "      <td>NaN</td>\n",
       "      <td>NaN</td>\n",
       "      <td>NaN</td>\n",
       "      <td>NaN</td>\n",
       "      <td>NaN</td>\n",
       "      <td>NaN</td>\n",
       "      <td>NaN</td>\n",
       "    </tr>\n",
       "    <tr>\n",
       "      <th>top</th>\n",
       "      <td>NaN</td>\n",
       "      <td>Harvard University</td>\n",
       "      <td>United States of America</td>\n",
       "      <td>NaN</td>\n",
       "      <td>NaN</td>\n",
       "      <td>NaN</td>\n",
       "      <td>NaN</td>\n",
       "      <td>NaN</td>\n",
       "      <td>NaN</td>\n",
       "      <td>NaN</td>\n",
       "      <td>NaN</td>\n",
       "      <td>NaN</td>\n",
       "      <td>NaN</td>\n",
       "      <td>NaN</td>\n",
       "    </tr>\n",
       "    <tr>\n",
       "      <th>freq</th>\n",
       "      <td>NaN</td>\n",
       "      <td>6</td>\n",
       "      <td>659</td>\n",
       "      <td>NaN</td>\n",
       "      <td>NaN</td>\n",
       "      <td>NaN</td>\n",
       "      <td>NaN</td>\n",
       "      <td>NaN</td>\n",
       "      <td>NaN</td>\n",
       "      <td>NaN</td>\n",
       "      <td>NaN</td>\n",
       "      <td>NaN</td>\n",
       "      <td>NaN</td>\n",
       "      <td>NaN</td>\n",
       "    </tr>\n",
       "    <tr>\n",
       "      <th>mean</th>\n",
       "      <td>98.201439</td>\n",
       "      <td>NaN</td>\n",
       "      <td>NaN</td>\n",
       "      <td>37.801498</td>\n",
       "      <td>52.007440</td>\n",
       "      <td>35.910257</td>\n",
       "      <td>60.921629</td>\n",
       "      <td>48.979874</td>\n",
       "      <td>59.846128</td>\n",
       "      <td>564.333333</td>\n",
       "      <td>18.445283</td>\n",
       "      <td>NaN</td>\n",
       "      <td>NaN</td>\n",
       "      <td>2014.075682</td>\n",
       "    </tr>\n",
       "    <tr>\n",
       "      <th>std</th>\n",
       "      <td>58.097290</td>\n",
       "      <td>NaN</td>\n",
       "      <td>NaN</td>\n",
       "      <td>17.604218</td>\n",
       "      <td>22.103825</td>\n",
       "      <td>21.254805</td>\n",
       "      <td>23.073219</td>\n",
       "      <td>21.179938</td>\n",
       "      <td>12.803446</td>\n",
       "      <td>4.914045</td>\n",
       "      <td>11.328041</td>\n",
       "      <td>NaN</td>\n",
       "      <td>NaN</td>\n",
       "      <td>1.685733</td>\n",
       "    </tr>\n",
       "    <tr>\n",
       "      <th>min</th>\n",
       "      <td>1.000000</td>\n",
       "      <td>NaN</td>\n",
       "      <td>NaN</td>\n",
       "      <td>9.900000</td>\n",
       "      <td>7.100000</td>\n",
       "      <td>2.900000</td>\n",
       "      <td>1.200000</td>\n",
       "      <td>24.200000</td>\n",
       "      <td>41.400000</td>\n",
       "      <td>462.000000</td>\n",
       "      <td>0.600000</td>\n",
       "      <td>NaN</td>\n",
       "      <td>NaN</td>\n",
       "      <td>2011.000000</td>\n",
       "    </tr>\n",
       "    <tr>\n",
       "      <th>25%</th>\n",
       "      <td>48.000000</td>\n",
       "      <td>NaN</td>\n",
       "      <td>NaN</td>\n",
       "      <td>24.700000</td>\n",
       "      <td>33.425000</td>\n",
       "      <td>19.600000</td>\n",
       "      <td>45.500000</td>\n",
       "      <td>33.000000</td>\n",
       "      <td>50.300000</td>\n",
       "      <td>564.333333</td>\n",
       "      <td>12.050000</td>\n",
       "      <td>NaN</td>\n",
       "      <td>NaN</td>\n",
       "      <td>2013.000000</td>\n",
       "    </tr>\n",
       "    <tr>\n",
       "      <th>50%</th>\n",
       "      <td>97.000000</td>\n",
       "      <td>NaN</td>\n",
       "      <td>NaN</td>\n",
       "      <td>33.900000</td>\n",
       "      <td>50.300000</td>\n",
       "      <td>30.500000</td>\n",
       "      <td>62.500000</td>\n",
       "      <td>41.000000</td>\n",
       "      <td>56.000000</td>\n",
       "      <td>564.333333</td>\n",
       "      <td>16.300000</td>\n",
       "      <td>NaN</td>\n",
       "      <td>NaN</td>\n",
       "      <td>2014.000000</td>\n",
       "    </tr>\n",
       "    <tr>\n",
       "      <th>75%</th>\n",
       "      <td>148.000000</td>\n",
       "      <td>NaN</td>\n",
       "      <td>NaN</td>\n",
       "      <td>46.400000</td>\n",
       "      <td>69.000000</td>\n",
       "      <td>47.250000</td>\n",
       "      <td>79.050000</td>\n",
       "      <td>59.000000</td>\n",
       "      <td>66.200000</td>\n",
       "      <td>564.333333</td>\n",
       "      <td>21.200000</td>\n",
       "      <td>NaN</td>\n",
       "      <td>NaN</td>\n",
       "      <td>2016.000000</td>\n",
       "    </tr>\n",
       "    <tr>\n",
       "      <th>max</th>\n",
       "      <td>200.000000</td>\n",
       "      <td>NaN</td>\n",
       "      <td>NaN</td>\n",
       "      <td>99.700000</td>\n",
       "      <td>100.000000</td>\n",
       "      <td>99.400000</td>\n",
       "      <td>100.000000</td>\n",
       "      <td>100.000000</td>\n",
       "      <td>96.100000</td>\n",
       "      <td>769.000000</td>\n",
       "      <td>162.600000</td>\n",
       "      <td>NaN</td>\n",
       "      <td>NaN</td>\n",
       "      <td>2016.000000</td>\n",
       "    </tr>\n",
       "  </tbody>\n",
       "</table>\n",
       "</div>"
      ],
      "text/plain": [
       "         world_rank     university_name                   country  \\\n",
       "count   1112.000000                2603                      2603   \n",
       "unique          NaN                 818                        72   \n",
       "top             NaN  Harvard University  United States of America   \n",
       "freq            NaN                   6                       659   \n",
       "mean      98.201439                 NaN                       NaN   \n",
       "std       58.097290                 NaN                       NaN   \n",
       "min        1.000000                 NaN                       NaN   \n",
       "25%       48.000000                 NaN                       NaN   \n",
       "50%       97.000000                 NaN                       NaN   \n",
       "75%      148.000000                 NaN                       NaN   \n",
       "max      200.000000                 NaN                       NaN   \n",
       "\n",
       "           teaching  international     research    citations       income  \\\n",
       "count   2603.000000    2594.000000  2603.000000  2603.000000  2385.000000   \n",
       "unique          NaN            NaN          NaN          NaN          NaN   \n",
       "top             NaN            NaN          NaN          NaN          NaN   \n",
       "freq            NaN            NaN          NaN          NaN          NaN   \n",
       "mean      37.801498      52.007440    35.910257    60.921629    48.979874   \n",
       "std       17.604218      22.103825    21.254805    23.073219    21.179938   \n",
       "min        9.900000       7.100000     2.900000     1.200000    24.200000   \n",
       "25%       24.700000      33.425000    19.600000    45.500000    33.000000   \n",
       "50%       33.900000      50.300000    30.500000    62.500000    41.000000   \n",
       "75%       46.400000      69.000000    47.250000    79.050000    59.000000   \n",
       "max       99.700000     100.000000    99.400000   100.000000   100.000000   \n",
       "\n",
       "        total_score  num_students  student_staff_ratio  \\\n",
       "count   1201.000000   2603.000000          2603.000000   \n",
       "unique          NaN           NaN                  NaN   \n",
       "top             NaN           NaN                  NaN   \n",
       "freq            NaN           NaN                  NaN   \n",
       "mean      59.846128    564.333333            18.445283   \n",
       "std       12.803446      4.914045            11.328041   \n",
       "min       41.400000    462.000000             0.600000   \n",
       "25%       50.300000    564.333333            12.050000   \n",
       "50%       56.000000    564.333333            16.300000   \n",
       "75%       66.200000    564.333333            21.200000   \n",
       "max       96.100000    769.000000           162.600000   \n",
       "\n",
       "        international_students  female_male_ratio         year  \n",
       "count                      0.0                0.0  2603.000000  \n",
       "unique                     NaN                NaN          NaN  \n",
       "top                        NaN                NaN          NaN  \n",
       "freq                       NaN                NaN          NaN  \n",
       "mean                       NaN                NaN  2014.075682  \n",
       "std                        NaN                NaN     1.685733  \n",
       "min                        NaN                NaN  2011.000000  \n",
       "25%                        NaN                NaN  2013.000000  \n",
       "50%                        NaN                NaN  2014.000000  \n",
       "75%                        NaN                NaN  2016.000000  \n",
       "max                        NaN                NaN  2016.000000  "
      ]
     },
     "execution_count": 20,
     "metadata": {},
     "output_type": "execute_result"
    }
   ],
   "source": [
    "times.describe(include='all')"
   ]
  },
  {
   "cell_type": "markdown",
   "id": "GG2J5e66lp9t",
   "metadata": {
    "id": "GG2J5e66lp9t"
   },
   "source": [
    "# Visual Analysis"
   ]
  },
  {
   "cell_type": "markdown",
   "id": "4tTZX8Pol9bJ",
   "metadata": {
    "id": "4tTZX8Pol9bJ"
   },
   "source": [
    " **Univariate Analysis**"
   ]
  },
  {
   "cell_type": "code",
   "execution_count": 21,
   "id": "558e03de",
   "metadata": {
    "colab": {
     "base_uri": "https://localhost:8080/",
     "height": 564
    },
    "id": "558e03de",
    "outputId": "d5c1a0b6-ce6c-48b9-a6bd-61c37d91c9a3"
   },
   "outputs": [
    {
     "data": {
      "image/png": "[encoded data removed]",
      "text/plain": [
       "<Figure size 1000x600 with 1 Axes>"
      ]
     },
     "metadata": {},
     "output_type": "display_data"
    }
   ],
   "source": [
    "import seaborn as sns\n",
    "import matplotlib.pyplot as plt\n",
    "\n",
    "# Group by country and count the number of schools, then take the top 5\n",
    "most_schools = snc_df.groupby('country')['school_name'].count().sort_values(ascending=False).head()\n",
    "\n",
    "# Create arrays for x and y points\n",
    "x_points = most_schools.index\n",
    "y_points = most_schools.values\n",
    "\n",
    "# Define a color palette with enough colors for each bar\n",
    "colors = sns.color_palette('husl', len(most_schools))\n",
    "\n",
    "# Bar plot with specified color palette\n",
    "plt.figure(figsize=(10, 6))\n",
    "sns.barplot(x=x_points, y=y_points, palette=colors)\n",
    "sns.set_style(\"darkgrid\")\n",
    "\n",
    "plt.xlabel(\"Country\")\n",
    "plt.ylabel(\"Number of Schools\")\n",
    "plt.title(\"Countries with the Most Number of Schools\")\n",
    "plt.show()\n"
   ]
  },
  {
   "cell_type": "markdown",
   "id": "HWHhDjOumUAt",
   "metadata": {
    "id": "HWHhDjOumUAt"
   },
   "source": [
    "**Observation:** From the plot we can see that USA has the most number of Schools followed by UK, Japan, Germany and China"
   ]
  },
  {
   "cell_type": "code",
   "execution_count": 22,
   "id": "4e750dd9",
   "metadata": {
    "colab": {
     "base_uri": "https://localhost:8080/",
     "height": 718
    },
    "id": "4e750dd9",
    "outputId": "3f00af66-83bb-4e2f-f166-9370cc5ed09c"
   },
   "outputs": [
    {
     "data": {
      "image/png": "[encoded data removed]",
      "text/plain": [
       "<Figure size 1200x800 with 1 Axes>"
      ]
     },
     "metadata": {},
     "output_type": "display_data"
    }
   ],
   "source": [
    "import seaborn as sns\n",
    "import matplotlib.pyplot as plt\n",
    "\n",
    "# Group by year and calculate the mean of publications\n",
    "avg_publications_by_year = cwur.groupby('year')['publications'].mean().reset_index()\n",
    "\n",
    "# Define a color palette with enough colors for each bar\n",
    "colors = sns.color_palette('husl', len(avg_publications_by_year))\n",
    "\n",
    "# Bar chart with specified color palette\n",
    "plt.figure(figsize=(12, 8))\n",
    "sns.barplot(data=avg_publications_by_year, x='year', y='publications', palette=colors)\n",
    "plt.title('Average Publications by Year')\n",
    "plt.xlabel('Year')\n",
    "plt.ylabel('Average Publications')\n",
    "plt.show()\n"
   ]
  },
  {
   "cell_type": "markdown",
   "id": "AlUVo0_4w6zF",
   "metadata": {
    "id": "AlUVo0_4w6zF"
   },
   "source": [
    "**Observation:**The average number of publications experienced a significantly large increase from 2012 to 2015."
   ]
  },
  {
   "cell_type": "markdown",
   "id": "r8mEwd5Cm6MC",
   "metadata": {
    "id": "r8mEwd5Cm6MC"
   },
   "source": [
    "**Bivariate Analysis**"
   ]
  },
  {
   "cell_type": "code",
   "execution_count": 23,
   "id": "502fe420",
   "metadata": {
    "colab": {
     "base_uri": "https://localhost:8080/",
     "height": 607
    },
    "id": "502fe420",
    "outputId": "296a9cb1-261a-4075-bc9e-85364ce07371"
   },
   "outputs": [
    {
     "data": {
      "image/png": "[encoded data removed]",
      "text/plain": [
       "<Figure size 1000x600 with 1 Axes>"
      ]
     },
     "metadata": {},
     "output_type": "display_data"
    }
   ],
   "source": [
    "import seaborn as sns\n",
    "import matplotlib.pyplot as plt\n",
    "\n",
    "# Assuming you have a DataFrame named 'cwur' containing the relevant information\n",
    "\n",
    "# Select the top 10 institutions\n",
    "Top10 = cwur.head(10)\n",
    "\n",
    "# Define a color palette\n",
    "colors = sns.color_palette(\"viridis\", len(Top10))\n",
    "\n",
    "# Plotting\n",
    "plt.figure(figsize=(10, 6))\n",
    "ax = sns.barplot(x=Top10.index, y=Top10['alumni_employment'], data=Top10, palette=colors)\n",
    "plt.xticks(range(len(Top10)), Top10['institution'], rotation=90)  # Setting custom tick labels\n",
    "plt.xlabel('Institution')\n",
    "plt.ylabel('Alumni Employment')\n",
    "plt.title('Top 10 Institutions by Alumni Employment')\n",
    "plt.tight_layout()\n",
    "plt.show()\n"
   ]
  },
  {
   "cell_type": "markdown",
   "id": "WFzcp9GGqfSr",
   "metadata": {
    "id": "WFzcp9GGqfSr"
   },
   "source": [
    "**Observation:**The top university by alumni employment is University of California, Berkeley."
   ]
  },
  {
   "cell_type": "markdown",
   "id": "Y1zzt7JlnGfB",
   "metadata": {
    "id": "Y1zzt7JlnGfB"
   },
   "source": [
    "**Multivariate Analysis**"
   ]
  },
  {
   "cell_type": "code",
   "execution_count": 24,
   "id": "b06ebcbb",
   "metadata": {
    "colab": {
     "base_uri": "https://localhost:8080/",
     "height": 694
    },
    "id": "b06ebcbb",
    "outputId": "0f6d028e-c8ad-407f-8376-cc45f45c2aca"
   },
   "outputs": [
    {
     "data": {
      "image/png": "[encoded data removed]",
      "text/plain": [
       "<Figure size 1200x600 with 2 Axes>"
      ]
     },
     "metadata": {},
     "output_type": "display_data"
    }
   ],
   "source": [
    "import seaborn as sns\n",
    "import matplotlib.pyplot as plt\n",
    "\n",
    "# Assuming 'cwur' is your dataframe\n",
    "top = cwur.head(10)\n",
    "\n",
    "# Selecting specific columns and setting 'university_name' as index\n",
    "top_10 = top[['world_rank', 'national_rank', 'quality_of_education', 'alumni_employment',\n",
    "              'quality_of_faculty', 'publications', 'influence', 'patents', 'score']]\n",
    "top_10.set_index(top['institution'], inplace=True)\n",
    "\n",
    "# Plot heatmap\n",
    "plt.figure(figsize=(12, 6))\n",
    "sns.heatmap(data=top_10, annot=True)\n",
    "plt.title('Top 10 Universities')\n",
    "plt.xlabel('Metrics')\n",
    "plt.ylabel('University Name')\n",
    "plt.show()\n",
    "\n"
   ]
  },
  {
   "cell_type": "markdown",
   "id": "tqeoaZDIzFnT",
   "metadata": {
    "id": "tqeoaZDIzFnT"
   },
   "source": [
    "**Observations:**\n",
    "Harvard University is ranked first based on the score metric.\n",
    "Massachusetts Institute of Technology (MIT) is ranked second.\n",
    "California Institute of Technology (Caltech) is ranked fifth.\n",
    "University of California, Berkeley is ranked tenth."
   ]
  },
  {
   "cell_type": "markdown",
   "id": "WxKYuZZ4nOFX",
   "metadata": {
    "id": "WxKYuZZ4nOFX"
   },
   "source": [
    "# Model Building"
   ]
  },
  {
   "cell_type": "markdown",
   "id": "xy0vZwbDtXbS",
   "metadata": {
    "id": "xy0vZwbDtXbS"
   },
   "source": [
    "Assigns the feature data to the variable X and the target label to the variable y\n"
   ]
  },
  {
   "cell_type": "code",
   "execution_count": 25,
   "id": "4f5fffcd",
   "metadata": {
    "colab": {
     "base_uri": "https://localhost:8080/"
    },
    "id": "4f5fffcd",
    "outputId": "de90ff38-c042-41fe-9fbb-12898e7425b5"
   },
   "outputs": [
    {
     "name": "stdout",
     "output_type": "stream",
     "text": [
      "X shape: (2200, 7)\n",
      "y shape: (2200,)\n"
     ]
    }
   ],
   "source": [
    "import numpy as np\n",
    "\n",
    "# Selecting specific columns for X and y\n",
    "X = cwur[['quality_of_education', 'alumni_employment', 'quality_of_faculty', 'publications', 'influence', 'citations', 'patents']]\n",
    "y = cwur['score']\n",
    "\n",
    "# Confirming the shape of X and y\n",
    "print(\"X shape:\", X.shape)\n",
    "print(\"y shape:\", y.shape)\n"
   ]
  },
  {
   "cell_type": "code",
   "execution_count": 26,
   "id": "72ebeac0",
   "metadata": {
    "colab": {
     "base_uri": "https://localhost:8080/",
     "height": 206
    },
    "id": "72ebeac0",
    "outputId": "5e66f7f3-300e-476f-fa73-fd3605978b2b"
   },
   "outputs": [
    {
     "data": {
      "text/html": [
       "<div>\n",
       "<style scoped>\n",
       "    .dataframe tbody tr th:only-of-type {\n",
       "        vertical-align: middle;\n",
       "    }\n",
       "\n",
       "    .dataframe tbody tr th {\n",
       "        vertical-align: top;\n",
       "    }\n",
       "\n",
       "    .dataframe thead th {\n",
       "        text-align: right;\n",
       "    }\n",
       "</style>\n",
       "<table border=\"1\" class=\"dataframe\">\n",
       "  <thead>\n",
       "    <tr style=\"text-align: right;\">\n",
       "      <th></th>\n",
       "      <th>quality_of_education</th>\n",
       "      <th>alumni_employment</th>\n",
       "      <th>quality_of_faculty</th>\n",
       "      <th>publications</th>\n",
       "      <th>influence</th>\n",
       "      <th>citations</th>\n",
       "      <th>patents</th>\n",
       "    </tr>\n",
       "  </thead>\n",
       "  <tbody>\n",
       "    <tr>\n",
       "      <th>0</th>\n",
       "      <td>7</td>\n",
       "      <td>9</td>\n",
       "      <td>1</td>\n",
       "      <td>1</td>\n",
       "      <td>1</td>\n",
       "      <td>1</td>\n",
       "      <td>5</td>\n",
       "    </tr>\n",
       "    <tr>\n",
       "      <th>1</th>\n",
       "      <td>9</td>\n",
       "      <td>17</td>\n",
       "      <td>3</td>\n",
       "      <td>12</td>\n",
       "      <td>4</td>\n",
       "      <td>4</td>\n",
       "      <td>1</td>\n",
       "    </tr>\n",
       "    <tr>\n",
       "      <th>2</th>\n",
       "      <td>17</td>\n",
       "      <td>11</td>\n",
       "      <td>5</td>\n",
       "      <td>4</td>\n",
       "      <td>2</td>\n",
       "      <td>2</td>\n",
       "      <td>15</td>\n",
       "    </tr>\n",
       "    <tr>\n",
       "      <th>3</th>\n",
       "      <td>10</td>\n",
       "      <td>24</td>\n",
       "      <td>4</td>\n",
       "      <td>16</td>\n",
       "      <td>16</td>\n",
       "      <td>11</td>\n",
       "      <td>50</td>\n",
       "    </tr>\n",
       "    <tr>\n",
       "      <th>4</th>\n",
       "      <td>2</td>\n",
       "      <td>29</td>\n",
       "      <td>7</td>\n",
       "      <td>37</td>\n",
       "      <td>22</td>\n",
       "      <td>22</td>\n",
       "      <td>18</td>\n",
       "    </tr>\n",
       "  </tbody>\n",
       "</table>\n",
       "</div>"
      ],
      "text/plain": [
       "   quality_of_education  alumni_employment  quality_of_faculty  publications  \\\n",
       "0                     7                  9                   1             1   \n",
       "1                     9                 17                   3            12   \n",
       "2                    17                 11                   5             4   \n",
       "3                    10                 24                   4            16   \n",
       "4                     2                 29                   7            37   \n",
       "\n",
       "   influence  citations  patents  \n",
       "0          1          1        5  \n",
       "1          4          4        1  \n",
       "2          2          2       15  \n",
       "3         16         11       50  \n",
       "4         22         22       18  "
      ]
     },
     "execution_count": 26,
     "metadata": {},
     "output_type": "execute_result"
    }
   ],
   "source": [
    "X.head()"
   ]
  },
  {
   "cell_type": "code",
   "execution_count": 27,
   "id": "13cff7e2",
   "metadata": {
    "colab": {
     "base_uri": "https://localhost:8080/"
    },
    "id": "13cff7e2",
    "outputId": "52cad961-c267-4542-b54d-e2066b623502"
   },
   "outputs": [
    {
     "data": {
      "text/plain": [
       "0    100.00\n",
       "1     91.67\n",
       "2     89.50\n",
       "3     86.17\n",
       "4     85.21\n",
       "Name: score, dtype: float64"
      ]
     },
     "execution_count": 27,
     "metadata": {},
     "output_type": "execute_result"
    }
   ],
   "source": [
    "y.head()"
   ]
  },
  {
   "cell_type": "code",
   "execution_count": 28,
   "id": "33695679",
   "metadata": {
    "colab": {
     "base_uri": "https://localhost:8080/"
    },
    "id": "33695679",
    "outputId": "60b50786-aabd-4299-b51b-ed79b924fc8d"
   },
   "outputs": [
    {
     "name": "stdout",
     "output_type": "stream",
     "text": [
      "y shape: (2200, 1)\n"
     ]
    }
   ],
   "source": [
    "import numpy as np\n",
    "\n",
    "# Reshaping y to have shape (n_samples, 1)\n",
    "y = np.array(y).reshape(-1, 1)\n",
    "\n",
    "# Confirming the shape of y\n",
    "print(\"y shape:\", y.shape)\n"
   ]
  },
  {
   "cell_type": "markdown",
   "id": "zB39X2TltuNQ",
   "metadata": {
    "id": "zB39X2TltuNQ"
   },
   "source": [
    "**Splitting the data into training and testing sets**"
   ]
  },
  {
   "cell_type": "code",
   "execution_count": 29,
   "id": "de6093eb",
   "metadata": {
    "colab": {
     "base_uri": "https://localhost:8080/"
    },
    "id": "de6093eb",
    "outputId": "4c6db203-bde5-4e5a-a384-9c63f1f601fb"
   },
   "outputs": [
    {
     "name": "stdout",
     "output_type": "stream",
     "text": [
      "X_train shape: (1760, 7)\n",
      "X_test shape: (440, 7)\n",
      "y_train shape: (1760, 1)\n",
      "y_test shape: (440, 1)\n"
     ]
    }
   ],
   "source": [
    "# Splitting the data into training and testing sets (80% train, 20% test)\n",
    "X_train, X_test, y_train, y_test = train_test_split(X, y, test_size=0.2, random_state=42)\n",
    "\n",
    "# Printing the shapes of the training and testing sets\n",
    "print(\"X_train shape:\", X_train.shape)\n",
    "print(\"X_test shape:\", X_test.shape)\n",
    "print(\"y_train shape:\", y_train.shape)\n",
    "print(\"y_test shape:\", y_test.shape)"
   ]
  },
  {
   "cell_type": "markdown",
   "id": "b6a2ba1c",
   "metadata": {
    "id": "b6a2ba1c"
   },
   "source": [
    "# Training The Model In Multiple Algorithms"
   ]
  },
  {
   "cell_type": "markdown",
   "id": "bc38beb8",
   "metadata": {
    "id": "bc38beb8"
   },
   "source": [
    "Linear Regression:"
   ]
  },
  {
   "cell_type": "code",
   "execution_count": 30,
   "id": "7f6f5a39",
   "metadata": {
    "id": "7f6f5a39"
   },
   "outputs": [],
   "source": [
    "linReg = LinearRegression()\n",
    "linReg.fit(X_train, y_train)\n",
    "y_pred_lr= linReg.predict(X_test)\n"
   ]
  },
  {
   "cell_type": "markdown",
   "id": "7024904c",
   "metadata": {
    "id": "7024904c"
   },
   "source": [
    "Lasso Regression:\n"
   ]
  },
  {
   "cell_type": "code",
   "execution_count": 31,
   "id": "84d24af9",
   "metadata": {
    "id": "84d24af9"
   },
   "outputs": [],
   "source": [
    "lassoReg = linear_model.Lasso(alpha=0.1)\n",
    "lassoReg.fit(X, y)\n",
    "y_pred_lasso = lassoReg.predict(X_test)\n"
   ]
  },
  {
   "cell_type": "markdown",
   "id": "a926cd8d",
   "metadata": {
    "id": "a926cd8d"
   },
   "source": [
    "Support Vector Regression(SVR):"
   ]
  },
  {
   "cell_type": "code",
   "execution_count": 32,
   "id": "2f6cf653",
   "metadata": {
    "id": "2f6cf653"
   },
   "outputs": [],
   "source": [
    "svr = SVR().fit(X, y)\n",
    "y_pred_svr=svr.predict(X_test)"
   ]
  },
  {
   "cell_type": "markdown",
   "id": "3626ee87",
   "metadata": {
    "id": "3626ee87"
   },
   "source": [
    "Decision Tree:"
   ]
  },
  {
   "cell_type": "code",
   "execution_count": 33,
   "id": "290397ba",
   "metadata": {
    "id": "290397ba"
   },
   "outputs": [],
   "source": [
    "dt = DecisionTreeRegressor(random_state = 0)\n",
    "dt.fit(X, y)\n",
    "y_pred_dt = dt.predict(X_test)\n"
   ]
  },
  {
   "cell_type": "markdown",
   "id": "270d7f36",
   "metadata": {
    "id": "270d7f36"
   },
   "source": [
    "Random Forest:"
   ]
  },
  {
   "cell_type": "code",
   "execution_count": 34,
   "id": "d432e302",
   "metadata": {
    "id": "d432e302"
   },
   "outputs": [],
   "source": [
    "rf = RandomForestRegressor(n_estimators=100, random_state=0)\n",
    "rf.fit(X, y)\n",
    "y_pred_rf = rf.predict(X_test)\n"
   ]
  },
  {
   "cell_type": "markdown",
   "id": "KPKWgJAmpV7W",
   "metadata": {
    "id": "KPKWgJAmpV7W"
   },
   "source": [
    "# Testing Models"
   ]
  },
  {
   "cell_type": "markdown",
   "id": "iYAxEvD4oCCM",
   "metadata": {
    "id": "iYAxEvD4oCCM"
   },
   "source": [
    "Using a trained model to predict the target variable based on the provided input features."
   ]
  },
  {
   "cell_type": "code",
   "execution_count": 35,
   "id": "806e2781",
   "metadata": {
    "colab": {
     "base_uri": "https://localhost:8080/"
    },
    "id": "806e2781",
    "outputId": "5eda92e6-d52c-4cca-9882-76589410b19f"
   },
   "outputs": [
    {
     "name": "stdout",
     "output_type": "stream",
     "text": [
      "[[63.33166471]]\n"
     ]
    }
   ],
   "source": [
    "#Linear Regression:\n",
    "y_pred_lr= linReg.predict([[7,9,1,1,1,1,5]])\n",
    "print(y_pred_lr)\n"
   ]
  },
  {
   "cell_type": "code",
   "execution_count": 36,
   "id": "3a6f4428",
   "metadata": {
    "colab": {
     "base_uri": "https://localhost:8080/"
    },
    "id": "3a6f4428",
    "outputId": "f6f710aa-f847-47b4-c43d-4edabd13d03d"
   },
   "outputs": [
    {
     "name": "stdout",
     "output_type": "stream",
     "text": [
      "[62.96954351]\n"
     ]
    }
   ],
   "source": [
    "#Lasso Regression:\n",
    "y_pred_lasso = lassoReg.predict([[7,9,1,1,1,1,5]])\n",
    "print(y_pred_lasso)\n"
   ]
  },
  {
   "cell_type": "code",
   "execution_count": 37,
   "id": "b3ef135b",
   "metadata": {
    "colab": {
     "base_uri": "https://localhost:8080/"
    },
    "id": "b3ef135b",
    "outputId": "f1be35f4-91ad-4b09-aa20-c50b58368590"
   },
   "outputs": [
    {
     "name": "stdout",
     "output_type": "stream",
     "text": [
      "[99.42905833]\n"
     ]
    }
   ],
   "source": [
    "#Random Forest:\n",
    "y_pred_rf = rf.predict([[7,9,1,1,1,1,5]])\n",
    "\n",
    "print(y_pred_rf)\n"
   ]
  },
  {
   "cell_type": "code",
   "execution_count": 38,
   "id": "5b2acf84",
   "metadata": {
    "colab": {
     "base_uri": "https://localhost:8080/"
    },
    "id": "5b2acf84",
    "outputId": "69b923dd-387c-448e-869f-c5a2de3ae0ea"
   },
   "outputs": [
    {
     "name": "stdout",
     "output_type": "stream",
     "text": [
      "[60.0246015]\n"
     ]
    }
   ],
   "source": [
    "#Support Vector Regression(SVR):\n",
    "y_pred_svr=svr.predict([[7,9,1,1,1,1,5]])\n",
    "\n",
    "print(y_pred_svr)\n"
   ]
  },
  {
   "cell_type": "code",
   "execution_count": 39,
   "id": "3aa3de4c",
   "metadata": {
    "colab": {
     "base_uri": "https://localhost:8080/"
    },
    "id": "3aa3de4c",
    "outputId": "09996747-658c-4530-bdeb-fe78627afb78"
   },
   "outputs": [
    {
     "name": "stdout",
     "output_type": "stream",
     "text": [
      "[100.]\n"
     ]
    }
   ],
   "source": [
    "#Decision Tree:\n",
    "y_pred_dt= dt.predict([[7,9,1,1,1,1,5]])\n",
    "\n",
    "print(y_pred_dt)\n"
   ]
  },
  {
   "cell_type": "markdown",
   "id": "b931c2f1",
   "metadata": {
    "id": "b931c2f1"
   },
   "source": [
    "**Result:**Decision Tree model and the Random Forest model are giving similar predictions, with the Decision Tree predicting exactly 100 and the Random Forest predicting 99.42905833, which is very close. Other models, however, are providing lower predicted values compared to these two models."
   ]
  },
  {
   "cell_type": "markdown",
   "id": "956c442e",
   "metadata": {
    "id": "956c442e"
   },
   "source": [
    "# Testing Model With Multiple Evaluation Metrics"
   ]
  },
  {
   "cell_type": "markdown",
   "id": "gj8H31iQob9E",
   "metadata": {
    "id": "gj8H31iQob9E"
   },
   "source": [
    "**Linear Regression**"
   ]
  },
  {
   "cell_type": "code",
   "execution_count": 40,
   "id": "63198c61",
   "metadata": {
    "colab": {
     "base_uri": "https://localhost:8080/"
    },
    "id": "63198c61",
    "outputId": "68749f8c-1655-4102-c34c-fec52961a58e"
   },
   "outputs": [
    {
     "name": "stdout",
     "output_type": "stream",
     "text": [
      "Prediction Evaluation using Linear Regression:\n",
      "MAE: 2.6657340636132787\n",
      "MSE: 28.917809410716277\n",
      "RMSE: 5.377528187812341\n",
      "R-squared: 0.46307977669338285\n",
      "\n",
      "\n"
     ]
    }
   ],
   "source": [
    "# Linear Regression\n",
    "lr = LinearRegression()\n",
    "lr.fit(X_train, y_train)\n",
    "lr_pred = lr.predict(X_test)\n",
    "lr_mae = mean_absolute_error(y_test, lr_pred)\n",
    "lr_mse = mean_squared_error(y_test, lr_pred)\n",
    "lr_rmse = np.sqrt(lr_mse)\n",
    "lr_r2 = r2_score(y_test, lr_pred)\n",
    "\n",
    "# Printing results\n",
    "print(\"Prediction Evaluation using Linear Regression:\")\n",
    "print(\"MAE:\", lr_mae)\n",
    "print(\"MSE:\", lr_mse)\n",
    "print(\"RMSE:\", lr_rmse)\n",
    "print(\"R-squared:\", lr_r2)\n",
    "print(\"\\n\")\n"
   ]
  },
  {
   "cell_type": "markdown",
   "id": "0w5nfMXkofcy",
   "metadata": {
    "id": "0w5nfMXkofcy"
   },
   "source": [
    "**Lasso Regression**"
   ]
  },
  {
   "cell_type": "code",
   "execution_count": 41,
   "id": "44099d0e",
   "metadata": {
    "colab": {
     "base_uri": "https://localhost:8080/"
    },
    "id": "44099d0e",
    "outputId": "04f44340-a244-4c2c-8029-4f8c1c56ccdd"
   },
   "outputs": [
    {
     "name": "stdout",
     "output_type": "stream",
     "text": [
      "Prediction Evaluation using Lasso Regression:\n",
      "MAE: 2.660478123834028\n",
      "MSE: 28.893569757635724\n",
      "RMSE: 5.3752739239629195\n",
      "R-squared: 0.4635298370613741\n",
      "\n",
      "\n"
     ]
    }
   ],
   "source": [
    "# Lasso Regression\n",
    "lasso = Lasso()\n",
    "lasso.fit(X_train, y_train)\n",
    "lasso_pred = lasso.predict(X_test)\n",
    "lasso_mae = mean_absolute_error(y_test, lasso_pred)\n",
    "lasso_mse = mean_squared_error(y_test, lasso_pred)\n",
    "lasso_rmse = np.sqrt(lasso_mse)\n",
    "lasso_r2 = r2_score(y_test, lasso_pred)\n",
    "\n",
    "# Printing results\n",
    "print(\"Prediction Evaluation using Lasso Regression:\")\n",
    "print(\"MAE:\", lasso_mae)\n",
    "print(\"MSE:\", lasso_mse)\n",
    "print(\"RMSE:\", lasso_rmse)\n",
    "print(\"R-squared:\", lasso_r2)\n",
    "print(\"\\n\")\n"
   ]
  },
  {
   "cell_type": "markdown",
   "id": "PDdDTChFojxs",
   "metadata": {
    "id": "PDdDTChFojxs"
   },
   "source": [
    "**Random Forest**"
   ]
  },
  {
   "cell_type": "code",
   "execution_count": 42,
   "id": "f3e05a3a",
   "metadata": {
    "colab": {
     "base_uri": "https://localhost:8080/"
    },
    "id": "f3e05a3a",
    "outputId": "3c725e77-faf0-4923-dead-7fb3cc917f4c"
   },
   "outputs": [
    {
     "name": "stdout",
     "output_type": "stream",
     "text": [
      "Prediction Evaluation using Random Forest:\n",
      "MAE: 0.5835158143939388\n",
      "MSE: 1.5899396219925848\n",
      "RMSE: 1.2609280796272977\n",
      "R-squared: 0.9704794120204712\n",
      "\n",
      "\n"
     ]
    }
   ],
   "source": [
    "# Random Forest\n",
    "rf = RandomForestRegressor()\n",
    "rf.fit(X_train, y_train)\n",
    "rf_pred = rf.predict(X_test)\n",
    "rf_mae = mean_absolute_error(y_test, rf_pred)\n",
    "rf_mse = mean_squared_error(y_test, rf_pred)\n",
    "rf_rmse = np.sqrt(rf_mse)\n",
    "rf_r2 = r2_score(y_test, rf_pred)\n",
    "\n",
    "# Printing results\n",
    "print(\"Prediction Evaluation using Random Forest:\")\n",
    "print(\"MAE:\", rf_mae)\n",
    "print(\"MSE:\", rf_mse)\n",
    "print(\"RMSE:\", rf_rmse)\n",
    "print(\"R-squared:\", rf_r2)\n",
    "print(\"\\n\")"
   ]
  },
  {
   "cell_type": "markdown",
   "id": "SmCaVUyYoouo",
   "metadata": {
    "id": "SmCaVUyYoouo"
   },
   "source": [
    "**Support Vector Regression(SVR)**"
   ]
  },
  {
   "cell_type": "code",
   "execution_count": 43,
   "id": "2cf40768",
   "metadata": {
    "colab": {
     "base_uri": "https://localhost:8080/"
    },
    "id": "2cf40768",
    "outputId": "89e9ae45-fbb1-4cef-e14a-2b4b1d52dd14"
   },
   "outputs": [
    {
     "name": "stdout",
     "output_type": "stream",
     "text": [
      "Prediction Evaluation using SVR:\n",
      "MAE: 1.7292341972937126\n",
      "MSE: 26.88372393706387\n",
      "RMSE: 5.184951681266072\n",
      "R-squared: 0.5008468707089301\n",
      "\n",
      "\n"
     ]
    }
   ],
   "source": [
    "# SVR\n",
    "svr = SVR()\n",
    "svr.fit(X_train, y_train)\n",
    "svr_pred = svr.predict(X_test)\n",
    "svr_mae = mean_absolute_error(y_test, svr_pred)\n",
    "svr_mse = mean_squared_error(y_test, svr_pred)\n",
    "svr_rmse = np.sqrt(svr_mse)\n",
    "svr_r2 = r2_score(y_test, svr_pred)\n",
    "\n",
    "# Printing results\n",
    "print(\"Prediction Evaluation using SVR:\")\n",
    "print(\"MAE:\", svr_mae)\n",
    "print(\"MSE:\", svr_mse)\n",
    "print(\"RMSE:\", svr_rmse)\n",
    "print(\"R-squared:\", svr_r2)\n",
    "print(\"\\n\")"
   ]
  },
  {
   "cell_type": "markdown",
   "id": "ok8fBmroozMt",
   "metadata": {
    "id": "ok8fBmroozMt"
   },
   "source": [
    "**Decision Tree**"
   ]
  },
  {
   "cell_type": "code",
   "execution_count": 44,
   "id": "ae869f8f",
   "metadata": {
    "colab": {
     "base_uri": "https://localhost:8080/"
    },
    "id": "ae869f8f",
    "outputId": "c7afdeac-aeec-41a7-9da5-476c39867fb5"
   },
   "outputs": [
    {
     "name": "stdout",
     "output_type": "stream",
     "text": [
      "Prediction Evaluation using Decision Tree:\n",
      "MAE: 0.7662954545454547\n",
      "MSE: 2.983666590909091\n",
      "RMSE: 1.7273293232354654\n",
      "R-squared: 0.9446019264630141\n"
     ]
    }
   ],
   "source": [
    "# Decision Tree\n",
    "dt = DecisionTreeRegressor()\n",
    "dt.fit(X_train, y_train)\n",
    "dt_pred = dt.predict(X_test)\n",
    "dt_mae = mean_absolute_error(y_test, dt_pred)\n",
    "dt_mse = mean_squared_error(y_test, dt_pred)\n",
    "dt_rmse = np.sqrt(dt_mse)\n",
    "dt_r2 = r2_score(y_test, dt_pred)\n",
    "\n",
    "# Printing results\n",
    "print(\"Prediction Evaluation using Decision Tree:\")\n",
    "print(\"MAE:\", dt_mae)\n",
    "print(\"MSE:\", dt_mse)\n",
    "print(\"RMSE:\", dt_rmse)\n",
    "print(\"R-squared:\", dt_r2)"
   ]
  },
  {
   "cell_type": "markdown",
   "id": "828d643e",
   "metadata": {
    "id": "828d643e"
   },
   "source": [
    "**Result:**\n",
    "Based on the provided evaluation metrics, it appears that the **Random Forest model** is performing the best among the tested models."
   ]
  },
  {
   "cell_type": "markdown",
   "id": "a3239e65",
   "metadata": {
    "id": "a3239e65"
   },
   "source": [
    "1.Lowest Error Metrics: The Random Forest model has the lowest values for Mean Absolute Error (MAE), Mean Squared Error (MSE), and Root Mean Squared Error (RMSE) compared to the other models. Lower values of these metrics indicate better predictive performance and closer alignment of predictions with the actual values.\n",
    "\n",
    "\n",
    "2.High R-squared: The Random Forest model also has the highest R-squared value, indicating that it explains a significant proportion of the variance in the target variable. A higher R-squared value suggests that the model fits the data well."
   ]
  },
  {
   "cell_type": "markdown",
   "id": "W7v-Rkk-z5f8",
   "metadata": {
    "id": "W7v-Rkk-z5f8"
   },
   "source": [
    "# Model Deployment\n"
   ]
  },
  {
   "cell_type": "markdown",
   "id": "IqyU7W940C4w",
   "metadata": {
    "id": "IqyU7W940C4w"
   },
   "source": [
    "Save The Best Model"
   ]
  },
  {
   "cell_type": "code",
   "execution_count": 45,
   "id": "MpAW0TRR38MP",
   "metadata": {
    "id": "MpAW0TRR38MP"
   },
   "outputs": [],
   "source": [
    "import pickle\n",
    "\n",
    "filename = 'model.pkl'  # Use the filename directly as a string\n",
    "pickle.dump(rf, open(filename, 'wb'))\n"
   ]
  },
  {
   "cell_type": "code",
   "execution_count": null,
   "id": "acVbxNz074t3",
   "metadata": {
    "id": "acVbxNz074t3"
   },
   "outputs": [],
   "source": []
  }
 ],
 "metadata": {
  "colab": {
   "provenance": []
  },
  "kernelspec": {
   "display_name": "Python 3 (ipykernel)",
   "language": "python",
   "name": "python3"
  },
  "language_info": {
   "codemirror_mode": {
    "name": "ipython",
    "version": 3
   },
   "file_extension": ".py",
   "mimetype": "text/x-python",
   "name": "python",
   "nbconvert_exporter": "python",
   "pygments_lexer": "ipython3",
   "version": "3.11.7"
  }
 },
 "nbformat": 4,
 "nbformat_minor": 5
}
